{
 "cells": [
  {
   "cell_type": "code",
   "execution_count": 39,
   "id": "initial_id",
   "metadata": {
    "collapsed": true,
    "ExecuteTime": {
     "end_time": "2024-10-10T13:57:52.625906Z",
     "start_time": "2024-10-10T13:57:52.516074200Z"
    }
   },
   "outputs": [],
   "source": [
    "import numpy as np\n",
    "from scipy.optimize import line_search"
   ]
  },
  {
   "cell_type": "code",
   "execution_count": 40,
   "outputs": [],
   "source": [
    "def rosenbrock(a, b, f0, n):\n",
    "    def rosenbroke_calc(x):\n",
    "        return sum(a * (x[i] ** 2 - x[i + 1]) ** 2 + b * (x[i] - 1) ** 2 for i in range(n - 1)) + f0\n",
    "    return rosenbroke_calc"
   ],
   "metadata": {
    "collapsed": false,
    "ExecuteTime": {
     "end_time": "2024-10-10T13:57:52.625906Z",
     "start_time": "2024-10-10T13:57:52.535025400Z"
    }
   },
   "id": "e2615d975071b68"
  },
  {
   "cell_type": "code",
   "execution_count": 41,
   "outputs": [],
   "source": [
    "def rosenbrock_grad(a, b, f0, n):\n",
    "    def rosenbrock_grad_calc(x):\n",
    "        grad = []\n",
    "        df_dx0 = 4 * a * x[0] * (x[0] ** 2 - x[1]) + 2 * b * (x[0] - 1)\n",
    "        grad.append(df_dx0)\n",
    "        for i in range(1, n - 1):\n",
    "            df_dxi = 4 * a * x[i] * (x[i] ** 2 - x[i + 1]) + 2 * b * (x[i] - 1) - 2 * a * (x[i - 1] ** 2 - x[i])\n",
    "            grad.append(df_dxi)\n",
    "        df_dxn = - 2 * a * (x[n - 2] ** 2 - x[n - 1])\n",
    "        grad.append(df_dxn)\n",
    "        return np.array(grad)\n",
    "    return rosenbrock_grad_calc"
   ],
   "metadata": {
    "collapsed": false,
    "ExecuteTime": {
     "end_time": "2024-10-10T13:57:52.626904Z",
     "start_time": "2024-10-10T13:57:52.551439500Z"
    }
   },
   "id": "f1744efb38b0d5e7"
  },
  {
   "cell_type": "code",
   "execution_count": 42,
   "outputs": [],
   "source": [
    "def rosenbrock_hessian(a, b, f0, n):\n",
    "    def hessian_func(x):\n",
    "        H = np.zeros((n, n))\n",
    "\n",
    "        # Элементы вдоль главной диагонали\n",
    "        for i in range(n):\n",
    "            if i == 0:\n",
    "                # Вторая производная по x0\n",
    "                H[i, i] = 12 * a * x[0] ** 2 - 4 * a * x[1] + 2 * b\n",
    "            elif i == n - 1:\n",
    "                # Вторая производная по x_(n-1)\n",
    "                H[i, i] = 2 * a\n",
    "            else:\n",
    "                # Вторая производная по x_i\n",
    "                H[i, i] = 12 * a * x[i] ** 2 - 4 * a * x[i + 1] + 2 * b + 2 * a\n",
    "\n",
    "        # Внедиагональные элементы (вторая производная по x_i и x_(i+1))\n",
    "        for i in range(n - 1):\n",
    "            H[i, i + 1] = -4 * a * x[i]\n",
    "            H[i + 1, i] = H[i, i + 1]  # Симметричная матрица\n",
    "\n",
    "        return H\n",
    "    \n",
    "    return hessian_func"
   ],
   "metadata": {
    "collapsed": false,
    "ExecuteTime": {
     "end_time": "2024-10-10T13:57:52.626904Z",
     "start_time": "2024-10-10T13:57:52.567398Z"
    }
   },
   "id": "e525595dd97ced2d"
  },
  {
   "cell_type": "code",
   "execution_count": 43,
   "outputs": [],
   "source": [
    "def vector_norm(vec: np.ndarray) -> float:\n",
    "    return max(map(abs, vec))"
   ],
   "metadata": {
    "collapsed": false,
    "ExecuteTime": {
     "end_time": "2024-10-10T13:57:52.627901400Z",
     "start_time": "2024-10-10T13:57:52.580361800Z"
    }
   },
   "id": "62f4dbf41ec58c6c"
  },
  {
   "cell_type": "code",
   "execution_count": 44,
   "outputs": [],
   "source": [
    "def find_min(func, a, b, xk, dk, eps=1e-4):\n",
    "    phi = (1 + 5 ** 0.5) / 2\n",
    "    a1 = b - (b - a) / phi\n",
    "    b1 = a + (b - a) / phi\n",
    "\n",
    "    while abs(b1 - a1) > eps:\n",
    "        if func(xk + a1 * dk) < func(xk + b1 * dk):\n",
    "            b = b1\n",
    "        else:\n",
    "            a = a1\n",
    "\n",
    "        a1 = b - (b - a) / phi\n",
    "        b1 = a + (b - a) / phi\n",
    "\n",
    "    return (a + b) / 2"
   ],
   "metadata": {
    "collapsed": false,
    "ExecuteTime": {
     "end_time": "2024-10-10T13:57:52.627901400Z",
     "start_time": "2024-10-10T13:57:52.596324400Z"
    }
   },
   "id": "d56859e521919f68"
  },
  {
   "cell_type": "code",
   "execution_count": 45,
   "outputs": [],
   "source": [
    "def grad_desc(func, func_grad, x0, M, epsilon1=1e-5, epsilon2=1e-5):\n",
    "    xk = np.array(x0, dtype=float)\n",
    "    k = 0\n",
    "    \n",
    "    while k < M:\n",
    "        grad_fk = func_grad(xk)\n",
    "        \n",
    "        if np.linalg.norm(grad_fk) < epsilon1:\n",
    "            break\n",
    "        \n",
    "        dk = -grad_fk\n",
    "        alpha = line_search(func, func_grad, xk, dk, gfk=grad_fk)[0]\n",
    "\n",
    "        xk_new = xk + alpha * dk\n",
    "        \n",
    "        if vector_norm(xk_new - xk) < epsilon1 and abs(func(xk_new) - func(xk)) < epsilon2:\n",
    "            break\n",
    "        \n",
    "        xk = xk_new\n",
    "        k += 1\n",
    "        \n",
    "    return xk, func(xk), k"
   ],
   "metadata": {
    "collapsed": false,
    "ExecuteTime": {
     "end_time": "2024-10-10T13:57:52.628898800Z",
     "start_time": "2024-10-10T13:57:52.613209Z"
    }
   },
   "id": "3808d81a29505a35"
  },
  {
   "cell_type": "code",
   "execution_count": 46,
   "outputs": [],
   "source": [
    "def fletcher_reeves(func, func_grad, x0, M, eps=1e-5):\n",
    "    dk = -func_grad(x0)\n",
    "    xk = x0.copy()\n",
    "    k = 0\n",
    "    epsilon_div = 1e-10\n",
    "    \n",
    "    while k < M:\n",
    "        grad_xk = func_grad(xk)\n",
    "        if vector_norm(grad_xk) < eps:\n",
    "            break\n",
    "        \n",
    "        alpha = find_min(func, -100, 100, xk, dk, 1e-4)\n",
    "        xk1 = xk + alpha * dk\n",
    "        \n",
    "        grad_xk1 = func_grad(xk1)\n",
    "        wk = (vector_norm(grad_xk1) ** 2) / (vector_norm(grad_xk) ** 2 + epsilon_div)\n",
    "        \n",
    "        dk = -grad_xk1 + wk * dk\n",
    "        xk = xk1.copy()\n",
    "        k += 1\n",
    "    \n",
    "    return xk, func(xk), k\n"
   ],
   "metadata": {
    "collapsed": false,
    "ExecuteTime": {
     "end_time": "2024-10-10T13:57:52.647327500Z",
     "start_time": "2024-10-10T13:57:52.628898800Z"
    }
   },
   "id": "4b708f75dff41d40"
  },
  {
   "cell_type": "code",
   "execution_count": 47,
   "outputs": [],
   "source": [
    "def polack_ribeir(func, func_grad, x0, M, eps=1e-5):\n",
    "    n = len(x0)\n",
    "    dk = -func_grad(x0)\n",
    "    xk = x0.copy()\n",
    "    k = 0\n",
    "    while k < M:\n",
    "        grad_fk = func_grad(xk)\n",
    "        if np.linalg.norm(grad_fk) < eps:\n",
    "            return xk, func(xk), k\n",
    "\n",
    "        alpha = find_min(func, -100, 100, xk, dk, 1e-4)\n",
    "        xk1 = xk + alpha * dk\n",
    "        if k % n == 0:\n",
    "            wk = np.dot(func_grad(xk1), (func_grad(xk1) - func_grad(xk))) / (np.linalg.norm(grad_fk) ** 2)\n",
    "        else:\n",
    "            wk = 0\n",
    "        dk = -func_grad(xk1) + wk * dk\n",
    "        k += 1\n",
    "        if k == n:\n",
    "            xk = x0.copy()\n",
    "        else:\n",
    "            xk = xk1.copy()\n",
    "        \n",
    "    return xk, func(xk), k"
   ],
   "metadata": {
    "collapsed": false,
    "ExecuteTime": {
     "end_time": "2024-10-10T13:57:52.688489200Z",
     "start_time": "2024-10-10T13:57:52.644335800Z"
    }
   },
   "id": "71de8a20c84143b0"
  },
  {
   "cell_type": "code",
   "execution_count": 48,
   "outputs": [],
   "source": [
    "def dav_fletch_pow(func, func_grad, x0, M, epsilon1=1e-5, epsilon2=1e-5): \n",
    "    Gk = np.eye(len(x0))\n",
    "    xk = np.array(x0, dtype=float)\n",
    "    k = 0\n",
    "    while k < M:\n",
    "        if np.linalg.norm(func_grad(xk)) < epsilon1:\n",
    "            break\n",
    "        dk = np.dot(-Gk, func_grad(xk))\n",
    "\n",
    "        alpha = find_min(func, -1000, 1000, xk, dk, 1e-4)\n",
    "            \n",
    "        xk1 = xk + alpha * dk\n",
    "        delta_xk = xk1 - xk\n",
    "        delta_gk = func_grad(xk1) - func_grad(xk)\n",
    "        delta_Gk = (np.outer(delta_xk, delta_xk.T) / (delta_xk.T @ delta_gk)) - ((np.outer(Gk @ delta_gk, delta_gk.T @ Gk.T)) / (delta_gk.T @ Gk @ delta_gk))\n",
    "        Gk = Gk + delta_Gk\n",
    "        xk = xk1\n",
    "        k += 1\n",
    "    return xk, func(xk), k"
   ],
   "metadata": {
    "collapsed": false,
    "ExecuteTime": {
     "end_time": "2024-10-10T13:57:52.689486300Z",
     "start_time": "2024-10-10T13:57:52.660293500Z"
    }
   },
   "id": "5473e7a7c87b6b1a"
  },
  {
   "cell_type": "code",
   "execution_count": 49,
   "outputs": [],
   "source": [
    "def levenb_marq(func, func_grad, hessian, x0, M, mu0=1e4, epsilon1=1e-5, epsilon2=1e-5):\n",
    "    xk = np.array(x0, dtype=float)\n",
    "    n = len(xk)\n",
    "    mu_k = mu0\n",
    "    k = 0\n",
    "    \n",
    "    while k < M:\n",
    "        grad_fk = func_grad(xk)\n",
    "        \n",
    "        if np.linalg.norm(grad_fk) < epsilon1:\n",
    "            return xk, func(xk), k\n",
    "        \n",
    "        Hk = hessian(xk)\n",
    "        Hk_mu = Hk + mu_k * np.eye(n)\n",
    "        Hk_mu_inv = np.linalg.inv(Hk_mu)\n",
    "        \n",
    "        dk = -np.dot(Hk_mu_inv, grad_fk)\n",
    "        xk_new = xk + dk\n",
    "        \n",
    "        if func(xk_new) < func(xk):\n",
    "            mu_k /= 2\n",
    "        else:\n",
    "            mu_k *= 2\n",
    "        \n",
    "        xk = xk_new\n",
    "        k += 1\n",
    "    \n",
    "    return xk, func(xk), k"
   ],
   "metadata": {
    "collapsed": false,
    "ExecuteTime": {
     "end_time": "2024-10-10T13:57:52.689486300Z",
     "start_time": "2024-10-10T13:57:52.674524400Z"
    }
   },
   "id": "125b6d53352f815d"
  },
  {
   "cell_type": "code",
   "execution_count": 50,
   "outputs": [
    {
     "name": "stdout",
     "output_type": "stream",
     "text": [
      "eps = 0.01\n",
      "grad_desc\n",
      "[0.99622901 0.99213379 0.98442236 0.9683333 ]\n",
      "80.00065827563446\n",
      "354\n",
      "\n",
      "fletcher_reeves\n",
      "[0.99980482 0.9996393  0.99919848 0.99832758]\n",
      "80.00000198786256\n",
      "45\n",
      "\n",
      "polack_ribeir\n",
      "[1.00017533 1.00035773 1.00072237 1.00146633]\n",
      "80.00000137724935\n",
      "58\n",
      "\n",
      "dav_fletch_pow\n",
      "[1.00000123 0.99998081 0.99995844 0.99989744]\n",
      "80.00000002990333\n",
      "14\n",
      "\n",
      "levenb_marq\n",
      "[1. 1. 1. 1.]\n",
      "80.0\n",
      "11\n",
      "\n",
      "eps = 0.001\n",
      "grad_desc\n",
      "[0.99622901 0.99213379 0.98442236 0.9683333 ]\n",
      "80.00065827563446\n",
      "354\n",
      "\n",
      "fletcher_reeves\n",
      "[0.99999158 0.99997529 0.99994455 0.99987806]\n",
      "80.00000001411564\n",
      "107\n",
      "\n",
      "polack_ribeir\n",
      "[1.00007804 1.0001558  1.00031813 1.00064449]\n",
      "80.00000026639741\n",
      "81\n",
      "\n",
      "dav_fletch_pow\n",
      "[0.99999967 0.99999937 0.99999864 0.9999975 ]\n",
      "80.00000000000644\n",
      "15\n",
      "\n",
      "levenb_marq\n",
      "[1.00000002 1.00000003 1.00000006 1.00000011]\n",
      "80.00000000000001\n",
      "11\n",
      "\n",
      "eps = 0.0001\n",
      "grad_desc\n",
      "[0.99767467 0.99514746 0.99037489 0.98037725]\n",
      "80.00025107021439\n",
      "418\n",
      "\n",
      "fletcher_reeves\n",
      "[0.99999872 0.99999728 0.99999512 0.99999109]\n",
      "80.00000000009764\n",
      "180\n",
      "polack_ribeir\n",
      "[1.00000109 1.00000221 1.00000477 1.00000984]\n",
      "80.00000000006416\n",
      "128\n",
      "\n",
      "dav_fletch_pow\n",
      "[0.99999967 0.99999937 0.99999864 0.9999975 ]\n",
      "80.00000000000644\n",
      "15\n",
      "\n",
      "levenb_marq\n",
      "[1.00000006 1.00000011 1.00000021 1.00000043]\n",
      "80.00000000000013\n",
      "11\n",
      "\n",
      "eps = 1e-05\n",
      "grad_desc\n",
      "[0.99976298 0.99950509 0.99901606 0.99798565]\n",
      "80.00000262011285\n",
      "726\n",
      "\n",
      "fletcher_reeves\n",
      "[0.99999935 0.99999871 0.99999732 0.99999455]\n",
      "80.00000000001907\n",
      "216\n",
      "\n",
      "polack_ribeir\n",
      "[1.0000008  1.00000161 1.00000323 1.00000657]\n",
      "80.00000000002771\n",
      "141\n",
      "\n",
      "dav_fletch_pow\n",
      "[1.00000001 1.00000002 1.00000003 1.00000004]\n",
      "80.0\n",
      "16\n",
      "\n",
      "levenb_marq\n",
      "[1.00000006 1.00000013 1.00000024 1.00000049]\n",
      "80.00000000000016\n",
      "11\n"
     ]
    }
   ],
   "source": [
    "import pandas as pd\n",
    "\n",
    "a, b, f0, n = 30, 2, 80, 4\n",
    "M = 10000\n",
    "x0 = np.random.uniform(0, 1, n)\n",
    "func = rosenbrock(a, b, f0, n)\n",
    "func_grad = rosenbrock_grad(a, b, f0, n)\n",
    "H = rosenbrock_hessian(a, b, f0, n)\n",
    "data = {\n",
    "    'grad_desc': [],\n",
    "    'fletcher_reeves': [],\n",
    "    'polack_ribeir': [],\n",
    "    'dav_fletch_pow': [],\n",
    "    'levenb_marq': []\n",
    "}\n",
    "for eps in (1e-2, 1e-3, 1e-4, 1e-5):\n",
    "    print(f'{eps = }')\n",
    "    it_nums = []\n",
    "    for method in (grad_desc, fletcher_reeves, polack_ribeir, dav_fletch_pow, levenb_marq):\n",
    "        x, y, it_num = method(func, func_grad, x0, M, eps) if method.__name__ != 'levenb_marq' else method(func, func_grad, H, x0, M, eps)\n",
    "        data[f'{method.__name__}'].append(it_num)\n",
    "        print(method.__name__, x, y, it_num, sep='\\n', end='\\n\\n')\n",
    "        \n",
    "df = pd.DataFrame(data=data, index=['1e-2', '1e-3', '1e-4', '1e-5'])\n",
    "df.index.name = 'eps'\n"
   ],
   "metadata": {
    "collapsed": false,
    "ExecuteTime": {
     "end_time": "2024-10-10T13:57:53.535882800Z",
     "start_time": "2024-10-10T13:57:52.692476300Z"
    }
   },
   "id": "47a1889e41dad8f6"
  },
  {
   "cell_type": "code",
   "execution_count": 51,
   "outputs": [
    {
     "data": {
      "text/plain": "      grad_desc  fletcher_reeves  polack_ribeir  dav_fletch_pow  levenb_marq\neps                                                                         \n1e-2        354               45             58              14           11\n1e-3        354              107             81              15           11\n1e-4        418              180            128              15           11\n1e-5        726              216            141              16           11",
      "text/html": "<div>\n<style scoped>\n    .dataframe tbody tr th:only-of-type {\n        vertical-align: middle;\n    }\n\n    .dataframe tbody tr th {\n        vertical-align: top;\n    }\n\n    .dataframe thead th {\n        text-align: right;\n    }\n</style>\n<table border=\"1\" class=\"dataframe\">\n  <thead>\n    <tr style=\"text-align: right;\">\n      <th></th>\n      <th>grad_desc</th>\n      <th>fletcher_reeves</th>\n      <th>polack_ribeir</th>\n      <th>dav_fletch_pow</th>\n      <th>levenb_marq</th>\n    </tr>\n    <tr>\n      <th>eps</th>\n      <th></th>\n      <th></th>\n      <th></th>\n      <th></th>\n      <th></th>\n    </tr>\n  </thead>\n  <tbody>\n    <tr>\n      <th>1e-2</th>\n      <td>354</td>\n      <td>45</td>\n      <td>58</td>\n      <td>14</td>\n      <td>11</td>\n    </tr>\n    <tr>\n      <th>1e-3</th>\n      <td>354</td>\n      <td>107</td>\n      <td>81</td>\n      <td>15</td>\n      <td>11</td>\n    </tr>\n    <tr>\n      <th>1e-4</th>\n      <td>418</td>\n      <td>180</td>\n      <td>128</td>\n      <td>15</td>\n      <td>11</td>\n    </tr>\n    <tr>\n      <th>1e-5</th>\n      <td>726</td>\n      <td>216</td>\n      <td>141</td>\n      <td>16</td>\n      <td>11</td>\n    </tr>\n  </tbody>\n</table>\n</div>"
     },
     "execution_count": 51,
     "metadata": {},
     "output_type": "execute_result"
    }
   ],
   "source": [
    "df"
   ],
   "metadata": {
    "collapsed": false,
    "ExecuteTime": {
     "end_time": "2024-10-10T13:57:53.577012700Z",
     "start_time": "2024-10-10T13:57:53.536880300Z"
    }
   },
   "id": "95030daa25e0bb09"
  },
  {
   "cell_type": "code",
   "execution_count": 51,
   "outputs": [],
   "source": [],
   "metadata": {
    "collapsed": false,
    "ExecuteTime": {
     "end_time": "2024-10-10T13:57:53.611409400Z",
     "start_time": "2024-10-10T13:57:53.555070100Z"
    }
   },
   "id": "89df8ee6d87abdee"
  }
 ],
 "metadata": {
  "kernelspec": {
   "display_name": "Python 3",
   "language": "python",
   "name": "python3"
  },
  "language_info": {
   "codemirror_mode": {
    "name": "ipython",
    "version": 2
   },
   "file_extension": ".py",
   "mimetype": "text/x-python",
   "name": "python",
   "nbconvert_exporter": "python",
   "pygments_lexer": "ipython2",
   "version": "2.7.6"
  }
 },
 "nbformat": 4,
 "nbformat_minor": 5
}
