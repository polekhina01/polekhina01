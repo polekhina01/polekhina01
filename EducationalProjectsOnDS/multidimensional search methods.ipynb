{
 "cells": [
  {
   "cell_type": "code",
   "execution_count": 34,
   "id": "initial_id",
   "metadata": {
    "collapsed": true,
    "ExecuteTime": {
     "end_time": "2024-10-06T16:40:45.578294500Z",
     "start_time": "2024-10-06T16:40:45.394786600Z"
    }
   },
   "outputs": [],
   "source": [
    "import numpy as np\n",
    "import time\n",
    "from scipy.optimize import line_search"
   ]
  },
  {
   "cell_type": "code",
   "execution_count": 35,
   "outputs": [],
   "source": [
    "def vector_norm(vec: np.ndarray) -> float:\n",
    "    return max(map(abs, vec))"
   ],
   "metadata": {
    "collapsed": false,
    "ExecuteTime": {
     "end_time": "2024-10-06T16:40:45.618187900Z",
     "start_time": "2024-10-06T16:40:45.407752400Z"
    }
   },
   "id": "8132e2bb0be4d69a"
  },
  {
   "cell_type": "code",
   "execution_count": 36,
   "outputs": [],
   "source": [
    "def find_min(func, a, b, xk, dk, eps=1e-4):\n",
    "    phi = (1 + 5 ** 0.5) / 2\n",
    "    a1 = b - (b - a) / phi\n",
    "    b1 = a + (b - a) / phi\n",
    "\n",
    "    while abs(b1 - a1) > eps:\n",
    "        if func(xk + a1 * dk) < func(xk + b1 * dk):\n",
    "            b = b1\n",
    "        else:\n",
    "            a = a1\n",
    "\n",
    "        a1 = b - (b - a) / phi\n",
    "        b1 = a + (b - a) / phi\n",
    "\n",
    "    return (a + b) / 2"
   ],
   "metadata": {
    "collapsed": false,
    "ExecuteTime": {
     "end_time": "2024-10-06T16:40:45.618187900Z",
     "start_time": "2024-10-06T16:40:45.422712100Z"
    }
   },
   "id": "9b7ebe165f032c9d"
  },
  {
   "cell_type": "code",
   "execution_count": 37,
   "outputs": [],
   "source": [
    "def grad_desc_method(func, func_grad, x0, M, epsilon1=1e-5, epsilon2=1e-5):\n",
    "    xk = np.array(x0, dtype=float)\n",
    "    k = 0\n",
    "    \n",
    "    while k < M:\n",
    "        grad_fk = func_grad(xk)\n",
    "        \n",
    "        if np.linalg.norm(grad_fk) < epsilon1:\n",
    "            break\n",
    "        \n",
    "        dk = -grad_fk\n",
    "        alpha = find_min(func, -1000, 1000, xk, dk)\n",
    "\n",
    "        xk_new = xk + alpha * dk\n",
    "        \n",
    "        if np.linalg.norm(xk_new - xk) < epsilon1 and abs(func(xk_new) - func(xk)) < epsilon2:\n",
    "            break\n",
    "        \n",
    "        xk = xk_new\n",
    "        k += 1\n",
    "        \n",
    "    return xk, k\n",
    "    "
   ],
   "metadata": {
    "collapsed": false,
    "ExecuteTime": {
     "end_time": "2024-10-06T16:40:45.619185200Z",
     "start_time": "2024-10-06T16:40:45.441660700Z"
    }
   },
   "id": "92c311c9143fc504"
  },
  {
   "cell_type": "code",
   "execution_count": 38,
   "outputs": [],
   "source": [
    "def fletch_reeves_method(func, func_grad, x0, M,  eps=1e-7):\n",
    "    dk = -func_grad(x0)\n",
    "    xk = x0.copy()\n",
    "    k = 0\n",
    "    while k < M:\n",
    "        if vector_norm(func_grad(xk)) < eps:\n",
    "            break\n",
    "\n",
    "        alpha = find_min(func, -1000, 1000, xk, dk, 1e-4)\n",
    "        if alpha > 1e-4:\n",
    "            xk1 = xk + alpha * dk\n",
    "        wk = (vector_norm(func_grad(xk1)) ** 2) / (vector_norm(func_grad(xk)) ** 2)\n",
    "        dk = -func_grad(xk1) + wk * dk\n",
    "        xk = xk1.copy()\n",
    "        k += 1\n",
    "    return xk, k"
   ],
   "metadata": {
    "collapsed": false,
    "ExecuteTime": {
     "end_time": "2024-10-06T16:40:45.619185200Z",
     "start_time": "2024-10-06T16:40:45.457617900Z"
    }
   },
   "id": "22629aaaf022b479"
  },
  {
   "cell_type": "code",
   "execution_count": 39,
   "outputs": [],
   "source": [
    "def dav_fletch_pow_method(func, func_grad, x0, M, epsilon1=1e-5, epsilon2=1e-5): \n",
    "    Gk = np.eye(len(x0))\n",
    "    xk = np.array(x0, dtype=float)\n",
    "    k = 0\n",
    "    while k < M:\n",
    "        if np.linalg.norm(func_grad(xk)) < epsilon1:\n",
    "            break\n",
    "        dk = np.dot(-Gk, func_grad(xk))\n",
    "\n",
    "        alpha = find_min(func, -1000, 1000, xk, dk, 1e-4)\n",
    "            \n",
    "        xk1 = xk + alpha * dk\n",
    "        delta_xk = xk1 - xk\n",
    "        delta_gk = func_grad(xk1) - func_grad(xk)\n",
    "        delta_Gk = (np.outer(delta_xk, delta_xk.T) / (delta_xk.T @ delta_gk)) - ((np.outer(Gk @ delta_gk, delta_gk.T @ Gk.T)) / (delta_gk.T @ Gk @ delta_gk))\n",
    "        Gk = Gk + delta_Gk\n",
    "        xk = xk1\n",
    "        k += 1\n",
    "    return xk, k"
   ],
   "metadata": {
    "collapsed": false,
    "ExecuteTime": {
     "end_time": "2024-10-06T16:40:45.619185200Z",
     "start_time": "2024-10-06T16:40:45.468589800Z"
    }
   },
   "id": "7e64de73e4ddc64a"
  },
  {
   "cell_type": "code",
   "execution_count": 40,
   "outputs": [],
   "source": [
    "def rosenbrock_hessian(a, b, f0, n):\n",
    "    def hessian_func(x):\n",
    "        H = np.zeros((n, n))\n",
    "\n",
    "        # Элементы вдоль главной диагонали\n",
    "        for i in range(n):\n",
    "            if i == 0:\n",
    "                # Вторая производная по x0\n",
    "                H[i, i] = 12 * a * x[0] ** 2 - 4 * a * x[1] + 2 * b\n",
    "            elif i == n - 1:\n",
    "                # Вторая производная по x_(n-1)\n",
    "                H[i, i] = 2 * a\n",
    "            else:\n",
    "                # Вторая производная по x_i\n",
    "                H[i, i] = 12 * a * x[i] ** 2 - 4 * a * x[i + 1] + 2 * b + 2 * a\n",
    "\n",
    "        # Внедиагональные элементы (вторая производная по x_i и x_(i+1))\n",
    "        for i in range(n - 1):\n",
    "            H[i, i + 1] = -4 * a * x[i]\n",
    "            H[i + 1, i] = H[i, i + 1]  # Симметричная матрица\n",
    "\n",
    "        return H\n",
    "    \n",
    "    return hessian_func"
   ],
   "metadata": {
    "collapsed": false,
    "ExecuteTime": {
     "end_time": "2024-10-06T16:40:45.619185200Z",
     "start_time": "2024-10-06T16:40:45.485542700Z"
    }
   },
   "id": "1e69c2008588ee2e"
  },
  {
   "cell_type": "code",
   "execution_count": 41,
   "outputs": [],
   "source": [
    "def levenb_marq_method(func, func_grad, hessian, x0, M, mu0=1e4, epsilon1=1e-5, epsilon2=1e-5):\n",
    "    xk = np.array(x0, dtype=float)\n",
    "    n = len(xk)\n",
    "    mu_k = mu0\n",
    "    k = 0\n",
    "    \n",
    "    while k < M:\n",
    "        grad_fk = func_grad(xk)\n",
    "        \n",
    "        if np.linalg.norm(grad_fk) < epsilon1:\n",
    "            break\n",
    "        \n",
    "        Hk = hessian(xk)\n",
    "        Hk_mu = Hk + mu_k * np.eye(n)\n",
    "        Hk_mu_inv = np.linalg.inv(Hk_mu)\n",
    "        \n",
    "        dk = -np.dot(Hk_mu_inv, grad_fk)\n",
    "        xk_new = xk + dk\n",
    "        \n",
    "        if func(xk_new) < func(xk):\n",
    "            mu_k /= 2\n",
    "        else:\n",
    "            mu_k *= 2\n",
    "        \n",
    "        xk = xk_new\n",
    "        k += 1\n",
    "    \n",
    "    return xk, k"
   ],
   "metadata": {
    "collapsed": false,
    "ExecuteTime": {
     "end_time": "2024-10-06T16:40:45.619185200Z",
     "start_time": "2024-10-06T16:40:45.501500600Z"
    }
   },
   "id": "e5496246621e7e30"
  },
  {
   "cell_type": "code",
   "execution_count": 42,
   "outputs": [],
   "source": [
    "def rosenbrock(a, b, f0, n):\n",
    "    def rosenbroke_calc(x):\n",
    "        return sum(a * (x[i] ** 2 - x[i + 1]) ** 2 + b * (x[i] - 1) ** 2 for i in range(n - 1)) + f0\n",
    "    return rosenbroke_calc"
   ],
   "metadata": {
    "collapsed": false,
    "ExecuteTime": {
     "end_time": "2024-10-06T16:40:45.620182300Z",
     "start_time": "2024-10-06T16:40:45.516460900Z"
    }
   },
   "id": "78cdc6e0f38cf604"
  },
  {
   "cell_type": "code",
   "execution_count": 43,
   "outputs": [],
   "source": [
    "def rosenbrock_grad(a, b, f0, n):\n",
    "    def rosenbrock_grad_calc(x):\n",
    "        grad = []\n",
    "        df_dx0 = 4 * a * x[0] * (x[0] ** 2 - x[1]) + 2 * b * (x[0] - 1)\n",
    "        grad.append(df_dx0)\n",
    "        for i in range(1, n - 1):\n",
    "            df_dxi = 4 * a * x[i] * (x[i] ** 2 - x[i + 1]) + 2 * b * (x[i] - 1) - 2 * a * (x[i - 1] ** 2 - x[i])\n",
    "            grad.append(df_dxi)\n",
    "        df_dxn = - 2 * a * (x[n - 2] ** 2 - x[n - 1])\n",
    "        grad.append(df_dxn)\n",
    "        return np.array(grad)\n",
    "    return rosenbrock_grad_calc"
   ],
   "metadata": {
    "collapsed": false,
    "ExecuteTime": {
     "end_time": "2024-10-06T16:40:45.620182300Z",
     "start_time": "2024-10-06T16:40:45.533414500Z"
    }
   },
   "id": "5d59664481525557"
  },
  {
   "cell_type": "code",
   "execution_count": 44,
   "outputs": [],
   "source": [
    "def run_optimization(optimizer, func, func_grad, hessian, x0, M, *params):\n",
    "    start_time = time.time()\n",
    "\n",
    "    if optimizer.__name__ == \"levenb_marq_method\":\n",
    "        result, iterations = optimizer(func, func_grad, hessian, x0, M, 1e4, *params)\n",
    "    else:\n",
    "        result, iterations = optimizer(func, func_grad, x0, M, *params)\n",
    "    \n",
    "    end_time = time.time()\n",
    "    elapsed_time = end_time - start_time\n",
    "    return result, iterations, elapsed_time"
   ],
   "metadata": {
    "collapsed": false,
    "ExecuteTime": {
     "end_time": "2024-10-06T16:40:45.623174800Z",
     "start_time": "2024-10-06T16:40:45.546380200Z"
    }
   },
   "id": "4cc02ee00d3950ce"
  },
  {
   "cell_type": "code",
   "execution_count": 45,
   "outputs": [
    {
     "name": "stdout",
     "output_type": "stream",
     "text": [
      "Метод: Gradient descent\n",
      "Результат: [0.99981063 0.99961019 0.99921726 0.99840295]\n",
      "Кол-во итераций: 1279\n",
      "Время выполнения: 0.71612 секунд\n",
      "Метод: Fletcher-Reeves\n",
      "Результат: [0.99775084 0.90773772 0.82901922 0.64253132]\n",
      "Кол-во итераций: 100000\n",
      "Время выполнения: 47.55164 секунд\n",
      "\n",
      "Метод: Davidon-Fletcher-Powell\n",
      "Результат: [1.         1.         1.00000001 1.00000003]\n",
      "Кол-во итераций: 18\n",
      "Время выполнения: 0.00821 секунд\n",
      "\n",
      "Метод: Levenberg-Marquardt\n",
      "Результат: [0.99999963 0.99999926 0.99999849 0.99999693]\n",
      "Кол-во итераций: 20\n",
      "Время выполнения: 0.00502 секунд\n"
     ]
    }
   ],
   "source": [
    "x0 = np.array([0.0, 0.0, 0.0, 0.0]) \n",
    "a, b, f0, n = 30, 2, 80, 4\n",
    "M = 100000\n",
    "\n",
    "methods = [\n",
    "    ('Gradient descent', grad_desc_method),\n",
    "    ('Fletcher-Reeves', fletch_reeves_method),\n",
    "    ('Davidon-Fletcher-Powell', dav_fletch_pow_method),\n",
    "    ('Levenberg-Marquardt', levenb_marq_method)\n",
    "]\n",
    "\n",
    "rosenbrock_func = rosenbrock(a, b, f0, n)\n",
    "rosenbrock_grad_func = rosenbrock_grad(a, b, f0, n)\n",
    "rosenbrock_hess_func = rosenbrock_hessian(a, b, f0, n)\n",
    "\n",
    "for name, method in methods:\n",
    "    result, iterations, time_taken = run_optimization(method, rosenbrock_func, rosenbrock_grad_func, rosenbrock_hess_func, x0, M)\n",
    "    print(f\"Метод: {name}\")\n",
    "    print(f\"Результат: {result}\")\n",
    "    print(f\"Кол-во итераций: {iterations}\")\n",
    "    print(f\"Время выполнения: {time_taken:.5f} секунд\\n\")"
   ],
   "metadata": {
    "collapsed": false,
    "ExecuteTime": {
     "end_time": "2024-10-06T16:41:33.870252400Z",
     "start_time": "2024-10-06T16:40:45.565330200Z"
    }
   },
   "id": "2908d09fefe4a8e"
  },
  {
   "cell_type": "code",
   "execution_count": 46,
   "outputs": [
    {
     "name": "stdout",
     "output_type": "stream",
     "text": [
      "Fletcher Reeves\n",
      "Результат: [0.99775084 0.90773772 0.82901922 0.64253132]\n",
      "Кол-во итераций: 100000\n",
      "Время выполнения: 48.71819 секунд\n"
     ]
    }
   ],
   "source": [
    "result, iterations, time_taken = run_optimization(fletch_reeves_method, rosenbrock_func, rosenbrock_grad_func, rosenbrock_hess_func, x0, M)\n",
    "print('Fletcher Reeves')\n",
    "print(f\"Результат: {result}\")\n",
    "print(f\"Кол-во итераций: {iterations}\")\n",
    "print(f\"Время выполнения: {time_taken:.5f} секунд\\n\")"
   ],
   "metadata": {
    "collapsed": false,
    "ExecuteTime": {
     "end_time": "2024-10-06T16:42:22.625305Z",
     "start_time": "2024-10-06T16:41:33.890197700Z"
    }
   },
   "id": "37f5d369df7b2229"
  },
  {
   "cell_type": "code",
   "execution_count": 46,
   "outputs": [],
   "source": [],
   "metadata": {
    "collapsed": false,
    "ExecuteTime": {
     "end_time": "2024-10-06T16:42:22.644254200Z",
     "start_time": "2024-10-06T16:42:22.625305Z"
    }
   },
   "id": "eb8b09bc1c157666"
  }
 ],
 "metadata": {
  "kernelspec": {
   "display_name": "Python 3",
   "language": "python",
   "name": "python3"
  },
  "language_info": {
   "codemirror_mode": {
    "name": "ipython",
    "version": 2
   },
   "file_extension": ".py",
   "mimetype": "text/x-python",
   "name": "python",
   "nbconvert_exporter": "python",
   "pygments_lexer": "ipython2",
   "version": "2.7.6"
  }
 },
 "nbformat": 4,
 "nbformat_minor": 5
}
