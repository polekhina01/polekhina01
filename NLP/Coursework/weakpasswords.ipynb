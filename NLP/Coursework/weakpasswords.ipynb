{
 "cells": [
  {
   "cell_type": "code",
   "execution_count": 1,
   "id": "initial_id",
   "metadata": {
    "ExecuteTime": {
     "end_time": "2024-11-11T19:02:01.736646400Z",
     "start_time": "2024-11-11T19:02:01.677804600Z"
    },
    "collapsed": true
   },
   "outputs": [],
   "source": [
    "import os\n",
    "import pickle\n",
    "import pandas as pd\n",
    "import numpy as np\n",
    "import random\n",
    "import string\n",
    "from itertools import islice\n",
    "from collections import Counter\n",
    "from sklearn.feature_extraction.text import TfidfVectorizer\n",
    "from sklearn.model_selection import train_test_split\n",
    "from sklearn.svm import LinearSVC\n",
    "from sklearn.naive_bayes import MultinomialNB\n",
    "from sklearn.metrics import classification_report, confusion_matrix\n",
    "import seaborn as sns\n",
    "import matplotlib.pyplot as plt"
   ]
  },
  {
   "cell_type": "code",
   "execution_count": 2,
   "id": "2f7dbb6eeb842722",
   "metadata": {
    "ExecuteTime": {
     "end_time": "2024-11-11T19:02:01.777991700Z",
     "start_time": "2024-11-11T19:02:01.688773500Z"
    },
    "collapsed": false
   },
   "outputs": [],
   "source": [
    "# Функции для сохранения и загрузки модели\n",
    "def save_model(vectorizer, cls_model):\n",
    "    os.makedirs(\"./cache/weak_password\", exist_ok=True)\n",
    "    with open(\"./cache/weak_password/vectorizer.pickle\", \"wb\") as pickle_file:\n",
    "        pickle.dump(vectorizer, pickle_file)\n",
    "    with open(\"./cache/weak_password/svm_clf.pickle\", \"wb\") as pickle_file:\n",
    "        pickle.dump(cls_model, pickle_file)"
   ]
  },
  {
   "cell_type": "code",
   "execution_count": 3,
   "id": "48f023a9fd047ac2",
   "metadata": {
    "ExecuteTime": {
     "end_time": "2024-11-11T19:02:01.777991700Z",
     "start_time": "2024-11-11T19:02:01.702737300Z"
    },
    "collapsed": false
   },
   "outputs": [],
   "source": [
    "def load_model():\n",
    "    with open(\"./cache/weak_password/vectorizer.pickle\", \"rb\") as pickle_file:\n",
    "        vectorizer = pickle.load(pickle_file)\n",
    "    with open(\"./cache/weak_password/svm_clf.pickle\", \"rb\") as pickle_file:\n",
    "        cls_model = pickle.load(pickle_file)\n",
    "    return vectorizer, cls_model"
   ]
  },
  {
   "cell_type": "code",
   "execution_count": 4,
   "id": "8f099664ffd91f2b",
   "metadata": {
    "ExecuteTime": {
     "end_time": "2024-11-11T19:02:01.777991700Z",
     "start_time": "2024-11-11T19:02:01.719691400Z"
    },
    "collapsed": false
   },
   "outputs": [],
   "source": [
    "# Функция для токенизации паролей\n",
    "def get_tokens(input_string):\n",
    "    return list(input_string)"
   ]
  },
  {
   "cell_type": "code",
   "execution_count": 5,
   "id": "b35b6bf7cc80db3a",
   "metadata": {
    "ExecuteTime": {
     "end_time": "2024-11-11T19:02:01.791911200Z",
     "start_time": "2024-11-11T19:02:01.734651300Z"
    },
    "collapsed": false
   },
   "outputs": [],
   "source": [
    "# Векторизация данных\n",
    "def make_vector(passwords, labels):\n",
    "    vectorizer = TfidfVectorizer(ngram_range=(2, 5), min_df=2, max_df=0.7, lowercase=False,\n",
    "                                 tokenizer=get_tokens, decode_error='replace', encoding=\"utf-8\")\n",
    "    X = vectorizer.fit_transform(passwords)\n",
    "    return X, labels, vectorizer"
   ]
  },
  {
   "cell_type": "code",
   "execution_count": null,
   "id": "104142d51d59fe56",
   "metadata": {
    "ExecuteTime": {
     "end_time": "2024-11-11T19:02:01.791911200Z",
     "start_time": "2024-11-11T19:02:01.752423700Z"
    },
    "collapsed": false
   },
   "outputs": [],
   "source": [
    "# Обучение модели\n",
    "def train_and_eval(X, y):\n",
    "    X_train, X_test, y_train, y_test = train_test_split(X, y, test_size=0.25, random_state=42)\n",
    "    model = LinearSVC(class_weight=\"balanced\", random_state=42) #class_weight=\"balanced\", random_state=42\n",
    "    #model = MultinomialNB(alpha=0.7)\n",
    "    model.fit(X_train, y_train)\n",
    "    pred = model.predict(X_test)\n",
    "\n",
    "    print(classification_report(y_test, pred, digits=4))\n",
    "\n",
    "    cm = confusion_matrix(y_test, pred)\n",
    "    plt.figure(figsize=(8, 6))\n",
    "    sns.heatmap(cm, annot=True, fmt='d', cmap='Blues', xticklabels=['Weak', 'Medium', 'Strong'], yticklabels=['Weak', 'Medium', 'Strong'])\n",
    "    plt.title('Confusion Matrix')\n",
    "    plt.xlabel('Predicted')\n",
    "    plt.ylabel('True')\n",
    "    plt.show()\n",
    "\n",
    "    return model"
   ]
  },
  {
   "cell_type": "code",
   "execution_count": 7,
   "id": "bbf502b7c3236fd5",
   "metadata": {
    "ExecuteTime": {
     "end_time": "2024-11-11T19:02:01.804852400Z",
     "start_time": "2024-11-11T19:02:01.768017600Z"
    },
    "collapsed": false
   },
   "outputs": [],
   "source": [
    "# Оценка модели на новых паролях\n",
    "def eval(vectorizer, model):\n",
    "    \n",
    "    passwords_to_predict = [\n",
    "        \"simple\",           # Weak (Class 0)\n",
    "        \"MediumP1\",         # Medium (Class 1)\n",
    "        \"!StrongPassWord111!\",     # Strong (Class 2)\n",
    "        \"TestAcc9\",         # Medium (Class 1)\n",
    "        \"onlylowercase\",    # Weak (Class 0)\n",
    "        \"**Top_Secret@9876A\",  # Strong (Class 2)\n",
    "        \"1234567\",          # Weak (Class 0)\n",
    "        \"TestUser2\",        # Medium (Class 1)\n",
    "        \"^MySecure$Code12@\"   # Strong (Class 2)\n",
    "    ]\n",
    "    \n",
    "    X_predict = vectorizer.transform(passwords_to_predict)\n",
    "    y_Predict = model.predict(X_predict)\n",
    "\n",
    "    for pwd, pred in zip(passwords_to_predict, y_Predict):\n",
    "        strength = \"Strong\" if pred == 2 else 'Medium' if pred == 1 else \"Weak\"\n",
    "        print(f'Password: {pwd} -> Prediction: {strength}')"
   ]
  },
  {
   "cell_type": "code",
   "execution_count": 8,
   "id": "8519eaae85814ee2",
   "metadata": {
    "ExecuteTime": {
     "end_time": "2024-11-11T19:02:01.807844500Z",
     "start_time": "2024-11-11T19:02:01.783975100Z"
    },
    "collapsed": false
   },
   "outputs": [],
   "source": [
    "# Загрузка паролей из RockYou и генерация меток\n",
    "def load_rockyou_data(rockyou_filepath, limit=10000):\n",
    "    with open(rockyou_filepath, 'r', encoding='latin-1') as file:\n",
    "        passwords = file.readlines()\n",
    "\n",
    "    passwords = [pwd.strip() for pwd in passwords]\n",
    "    labels = [2 if (len(pwd) >= 10 and any(c.isdigit() for c in pwd) and any(c.isupper() for c in pwd) and any(c in set(string.punctuation) for c in pwd)) else \n",
    "              1 if (8 <= len(pwd) < 10 and any(c.isdigit() for c in pwd) and any(c.isupper() for c in pwd)) else \n",
    "              0 for pwd in passwords]  \n",
    "    return passwords, labels"
   ]
  },
  {
   "cell_type": "code",
   "execution_count": 11,
   "id": "602af179b0e11fa9",
   "metadata": {
    "ExecuteTime": {
     "end_time": "2024-11-11T19:02:26.718262800Z",
     "start_time": "2024-11-11T19:02:01.798872300Z"
    },
    "collapsed": false
   },
   "outputs": [
    {
     "data": {
      "text/plain": [
       "Counter({0: 13947563, 1: 359534, 2: 37294})"
      ]
     },
     "execution_count": 11,
     "metadata": {},
     "output_type": "execute_result"
    }
   ],
   "source": [
    "rockyou_filepath = os.path.join(\"C:/Users/Ксения/PycharmProjects/deep_learning/rockyou.txt\")\n",
    "passwords, labels = load_rockyou_data(rockyou_filepath)\n",
    "counts = Counter(labels)\n",
    "counts"
   ]
  },
  {
   "cell_type": "code",
   "execution_count": 33,
   "id": "1ac437bd",
   "metadata": {},
   "outputs": [
    {
     "name": "stdout",
     "output_type": "stream",
     "text": [
      "Password: apostolos, Label: 0\n",
      "Password: tip12345, Label: 0\n",
      "Password: 0728266145, Label: 0\n",
      "Password: fatita015, Label: 0\n",
      "Password: broberts0215, Label: 0\n",
      "Password: garage45., Label: 0\n",
      "Password: honeyalvin, Label: 0\n",
      "Password: 143Jesusc, Label: 1\n",
      "Password: 1xwfgpb74f1i, Label: 0\n",
      "Password: gysschlossweg7, Label: 0\n",
      "Password: VEGA72YO, Label: 1\n",
      "Password: chloecox, Label: 0\n",
      "Password: daewoo93, Label: 0\n",
      "Password: 070202719, Label: 0\n",
      "Password: ana1980, Label: 0\n"
     ]
    }
   ],
   "source": [
    "for i in random.sample(range(len(passwords)), 15):\n",
    "    print(f\"Password: {passwords[i]}, Label: {labels[i]}\")"
   ]
  },
  {
   "cell_type": "code",
   "execution_count": null,
   "id": "19a34fc6279c9feb",
   "metadata": {
    "ExecuteTime": {
     "end_time": "2024-11-11T20:22:32.250167500Z",
     "start_time": "2024-11-11T19:12:11.952150200Z"
    },
    "collapsed": false
   },
   "outputs": [
    {
     "name": "stderr",
     "output_type": "stream",
     "text": [
      "c:\\Users\\Ксения\\AppData\\Local\\Programs\\Python\\Python312\\Lib\\site-packages\\sklearn\\feature_extraction\\text.py:521: UserWarning: The parameter 'token_pattern' will not be used since 'tokenizer' is not None'\n",
      "  warnings.warn(\n"
     ]
    }
   ],
   "source": [
    "# from imblearn.over_sampling import SMOTE\n",
    "\n",
    "# # Тренировка модели\n",
    "X, y, vectorizer = make_vector(passwords, labels)\n",
    "\n",
    "# smote = SMOTE(sampling_strategy='auto', random_state=42)  # Примерно уравняем баланс\n",
    "# X, y = smote.fit_resample(X, y)\n"
   ]
  },
  {
   "cell_type": "code",
   "execution_count": 14,
   "id": "2d987367",
   "metadata": {},
   "outputs": [],
   "source": [
    "from imblearn.under_sampling import RandomUnderSampler\n",
    "\n",
    "undersampler = RandomUnderSampler(sampling_strategy={0: 35000, 1: 35000, 2: 35000}, random_state=42)\n",
    "X_resampled, y_resampled = undersampler.fit_resample(X, y)\n"
   ]
  },
  {
   "cell_type": "code",
   "execution_count": 16,
   "id": "137c2adde8ead295",
   "metadata": {
    "ExecuteTime": {
     "end_time": "2024-11-11T20:22:34.568137Z",
     "start_time": "2024-11-11T20:22:32.237910200Z"
    },
    "collapsed": false
   },
   "outputs": [],
   "source": [
    "# counts_new = Counter(X_resampled)\n",
    "# counts_new"
   ]
  },
  {
   "cell_type": "code",
   "execution_count": null,
   "id": "8a6a436754ad8491",
   "metadata": {
    "ExecuteTime": {
     "end_time": "2024-11-11T20:30:03.159921200Z",
     "start_time": "2024-11-11T20:22:34.574121300Z"
    },
    "collapsed": false
   },
   "outputs": [
    {
     "name": "stdout",
     "output_type": "stream",
     "text": [
      "              precision    recall  f1-score   support\n",
      "\n",
      "           0     0.8838    0.9114    0.8974      8755\n",
      "           1     0.8340    0.8532    0.8435      8765\n",
      "           2     0.8867    0.8386    0.8620      8730\n",
      "\n",
      "    accuracy                         0.8677     26250\n",
      "   macro avg     0.8682    0.8677    0.8676     26250\n",
      "weighted avg     0.8682    0.8677    0.8676     26250\n",
      "\n"
     ]
    },
    {
     "data": {
      "image/png": "[encoded data removed]",
      "text/plain": [
       "<Figure size 800x600 with 2 Axes>"
      ]
     },
     "metadata": {},
     "output_type": "display_data"
    },
    {
     "name": "stdout",
     "output_type": "stream",
     "text": [
      "Password: simple -> Prediction: Weak\n",
      "Password: MediumP1 -> Prediction: Medium\n",
      "Password: !StrongPassWord111! -> Prediction: Strong\n",
      "Password: TestAcc9 -> Prediction: Medium\n",
      "Password: onlylowercase -> Prediction: Weak\n",
      "Password: **Top_Secret@9876A -> Prediction: Strong\n",
      "Password: 1234567 -> Prediction: Weak\n",
      "Password: TestUser2 -> Prediction: Medium\n",
      "Password: ^MySecure$Code12@ -> Prediction: Strong\n"
     ]
    }
   ],
   "source": [
    "\n"
   ]
  },
  {
   "cell_type": "code",
   "execution_count": null,
   "id": "bacbac4f6ca2fb4d",
   "metadata": {
    "ExecuteTime": {
     "start_time": "2024-11-11T19:02:28.258488300Z"
    },
    "collapsed": false
   },
   "outputs": [],
   "source": [
    "# probs = cls_model.predict_proba(X_)\n",
    "# for prob in probs[:10]:\n",
    "#     print([f\"{p:.3f}\" for p in prob])"
   ]
  },
  {
   "cell_type": "code",
   "execution_count": null,
   "id": "4cc1cf9c41da5d5",
   "metadata": {
    "ExecuteTime": {
     "start_time": "2024-11-11T19:02:28.260482600Z"
    },
    "collapsed": false
   },
   "outputs": [],
   "source": []
  }
 ],
 "metadata": {
  "kernelspec": {
   "display_name": "Python 3",
   "language": "python",
   "name": "python3"
  },
  "language_info": {
   "codemirror_mode": {
    "name": "ipython",
    "version": 3
   },
   "file_extension": ".py",
   "mimetype": "text/x-python",
   "name": "python",
   "nbconvert_exporter": "python",
   "pygments_lexer": "ipython3",
   "version": "3.12.0"
  }
 },
 "nbformat": 4,
 "nbformat_minor": 5
}
