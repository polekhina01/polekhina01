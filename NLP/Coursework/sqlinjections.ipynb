{
 "cells": [
  {
   "cell_type": "code",
   "execution_count": null,
   "metadata": {},
   "outputs": [
    {
     "name": "stdout",
     "output_type": "stream",
     "text": [
      "Device: /physical_device:CPU:0\n",
      "TensorFlow will use CPU.\n"
     ]
    }
   ],
   "source": [
    "import tensorflow as tf\n",
    "\n",
    "for device in tf.config.list_physical_devices():\n",
    "    print(f\"Device: {device.name}\")\n",
    "\n",
    "if tf.config.list_physical_devices('GPU'):\n",
    "    print(\"GPU is available for TensorFlow.\")\n",
    "else:\n",
    "    print(\"TensorFlow will use CPU.\")\n"
   ]
  },
  {
   "cell_type": "code",
   "execution_count": 3,
   "metadata": {},
   "outputs": [
    {
     "name": "stdout",
     "output_type": "stream",
     "text": [
      "WARNING:tensorflow:From c:\\Users\\Ксения\\AppData\\Local\\Programs\\Python\\Python312\\Lib\\site-packages\\tf_keras\\src\\losses.py:2976: The name tf.losses.sparse_softmax_cross_entropy is deprecated. Please use tf.compat.v1.losses.sparse_softmax_cross_entropy instead.\n",
      "\n"
     ]
    }
   ],
   "source": [
    "import pandas as pd\n",
    "import numpy as np\n",
    "import tensorflow as tf\n",
    "import tensorflow_hub as hub\n",
    "from sklearn.metrics import f1_score\n",
    "from transformers import BertTokenizer, TFBertModel\n",
    "import matplotlib.pyplot as plt"
   ]
  },
  {
   "cell_type": "code",
   "execution_count": 4,
   "metadata": {},
   "outputs": [],
   "source": [
    "df1 = pd.read_csv(\"C:/Users/Ксения/PycharmProjects/deep_learning/vscode/SQLiV3.csv\", encoding='utf-8')[[\"Sentence\", \"Label\"]]\n",
    "df2 = pd.read_csv(\"C:/Users/Ксения/PycharmProjects/deep_learning/vscode/sqli.csv\", encoding='utf-16')\n",
    "df3 = pd.read_csv(\"C:/Users/Ксения/PycharmProjects/deep_learning/vscode/sqliv2.csv\", encoding='utf-16')"
   ]
  },
  {
   "cell_type": "code",
   "execution_count": 5,
   "metadata": {},
   "outputs": [],
   "source": [
    "# Объединение и очистка\n",
    "df = pd.concat([df1, df2, df3])\n",
    "df.dropna(inplace=True)\n",
    "df = df[(df['Label'] == \"0\") | (df['Label'] == \"1\")]\n",
    "df = df.drop_duplicates(subset='Sentence')\n",
    "df['Label'] = pd.to_numeric(df['Label'])\n",
    "df = df.sample(frac=1).reset_index(drop=True)\n",
    "df.rename(columns={'Sentence': 'X', 'Label': 'y'}, inplace=True)"
   ]
  },
  {
   "cell_type": "code",
   "execution_count": null,
   "metadata": {},
   "outputs": [],
   "source": [
    "slice_index_1 = int(0.8 * len(df))\n",
    "slice_index_2 = int(0.9 * len(df))\n",
    "train_df = df.iloc[:slice_index_1, :]\n",
    "val_df = df.iloc[slice_index_1:slice_index_2, :]\n",
    "test_df = df.iloc[slice_index_2:, :]\n",
    "\n",
    "X_train = train_df['X'].values\n",
    "y_train = train_df['y'].values\n",
    "X_val = val_df['X'].values\n",
    "y_val = val_df['y'].values\n",
    "X_test = test_df['X'].values\n",
    "y_test = test_df['y'].values"
   ]
  },
  {
   "cell_type": "code",
   "execution_count": 7,
   "metadata": {},
   "outputs": [
    {
     "name": "stdout",
     "output_type": "stream",
     "text": [
      "WARNING:tensorflow:From c:\\Users\\Ксения\\AppData\\Local\\Programs\\Python\\Python312\\Lib\\site-packages\\tf_keras\\src\\backend.py:873: The name tf.get_default_graph is deprecated. Please use tf.compat.v1.get_default_graph instead.\n",
      "\n"
     ]
    },
    {
     "name": "stderr",
     "output_type": "stream",
     "text": [
      "Some weights of the PyTorch model were not used when initializing the TF 2.0 model TFBertModel: ['cls.predictions.transform.LayerNorm.weight', 'cls.seq_relationship.weight', 'cls.predictions.bias', 'cls.seq_relationship.bias', 'cls.predictions.transform.LayerNorm.bias', 'cls.predictions.transform.dense.weight', 'cls.predictions.transform.dense.bias']\n",
      "- This IS expected if you are initializing TFBertModel from a PyTorch model trained on another task or with another architecture (e.g. initializing a TFBertForSequenceClassification model from a BertForPreTraining model).\n",
      "- This IS NOT expected if you are initializing TFBertModel from a PyTorch model that you expect to be exactly identical (e.g. initializing a TFBertForSequenceClassification model from a BertForSequenceClassification model).\n",
      "All the weights of TFBertModel were initialized from the PyTorch model.\n",
      "If your task is similar to the task the model of the checkpoint was trained on, you can already use TFBertModel for predictions without further training.\n"
     ]
    }
   ],
   "source": [
    "# Загрузка BERT-токенизатора и модели\n",
    "tokenizer = BertTokenizer.from_pretrained(\"bert-base-uncased\")\n",
    "bert_model = TFBertModel.from_pretrained(\"bert-base-uncased\")"
   ]
  },
  {
   "cell_type": "code",
   "execution_count": null,
   "metadata": {},
   "outputs": [],
   "source": [
    "# Токенизация данных\n",
    "def encode_texts(texts):\n",
    "    return tokenizer(\n",
    "        texts.tolist(),\n",
    "        padding=\"max_length\",\n",
    "        truncation=True,\n",
    "        max_length=512,\n",
    "        return_tensors=\"tf\"\n",
    "    )\n",
    "\n",
    "train_encodings = encode_texts(X_train)\n",
    "val_encodings = encode_texts(X_val)\n",
    "test_encodings = encode_texts(X_test)"
   ]
  },
  {
   "cell_type": "code",
   "execution_count": null,
   "metadata": {},
   "outputs": [],
   "source": [
    "def build_classifier_model():\n",
    "    input_ids = tf.keras.layers.Input(shape=(512,), dtype=tf.int32, name=\"input_ids\")\n",
    "    attention_mask = tf.keras.layers.Input(shape=(512,), dtype=tf.int32, name=\"attention_mask\")\n",
    "\n",
    "    # Определяем функцию для вызова модели BERT\n",
    "    def get_bert_output(inputs):\n",
    "        input_ids, attention_mask = inputs\n",
    "        output = bert_model(input_ids=input_ids, attention_mask=attention_mask)\n",
    "        return output.last_hidden_state\n",
    "\n",
    "    # Указываем output_shape для Lambda слоя\n",
    "    bert_output = tf.keras.layers.Lambda(get_bert_output, output_shape=(train_encodings[\"input_ids\"].shape[1], 768))([input_ids, attention_mask])\n",
    "\n",
    "    # Получаем last_hidden_state из результата\n",
    "    net = bert_output[:, 0, :]  # Используем CLS-токен\n",
    "    net = tf.keras.layers.Dropout(0.1)(net)\n",
    "    net = tf.keras.layers.Dense(1, activation=\"sigmoid\", name=\"classifier\")(net)\n",
    "    \n",
    "    return tf.keras.Model(inputs=[input_ids, attention_mask], outputs=net)\n",
    "\n",
    "classifier_model = build_classifier_model()\n"
   ]
  },
  {
   "cell_type": "code",
   "execution_count": null,
   "metadata": {},
   "outputs": [
    {
     "name": "stdout",
     "output_type": "stream",
     "text": [
      "(24476, 512)\n"
     ]
    }
   ],
   "source": [
    "print(train_encodings[\"input_ids\"].shape)\n"
   ]
  },
  {
   "cell_type": "code",
   "execution_count": null,
   "metadata": {},
   "outputs": [],
   "source": [
    "# Компиляция\n",
    "loss = tf.keras.losses.BinaryCrossentropy()\n",
    "metrics = [tf.keras.metrics.BinaryAccuracy(), tf.keras.metrics.AUC(name=\"AUC\")]\n",
    "classifier_model.compile(optimizer=tf.keras.optimizers.Adam(learning_rate=3e-5), loss=loss, metrics=metrics)\n"
   ]
  },
  {
   "cell_type": "code",
   "execution_count": null,
   "metadata": {},
   "outputs": [
    {
     "name": "stdout",
     "output_type": "stream",
     "text": [
      "Epoch 1/5\n"
     ]
    },
    {
     "name": "stderr",
     "output_type": "stream",
     "text": [
      "c:\\Users\\Ксения\\AppData\\Local\\Programs\\Python\\Python312\\Lib\\site-packages\\keras\\src\\models\\functional.py:225: UserWarning: The structure of `inputs` doesn't match the expected structure: ['input_ids', 'attention_mask']. Received: the structure of inputs={'input_ids': '*', 'attention_mask': '*'}\n",
      "  warnings.warn(\n"
     ]
    },
    {
     "name": "stdout",
     "output_type": "stream",
     "text": [
      "\u001b[1m765/765\u001b[0m \u001b[32m━━━━━━━━━━━━━━━━━━━━\u001b[0m\u001b[37m\u001b[0m \u001b[1m11820s\u001b[0m 15s/step - AUC: 0.6119 - binary_accuracy: 0.6335 - loss: 0.6300 - val_AUC: 0.8528 - val_binary_accuracy: 0.7630 - val_loss: 0.5016\n",
      "Epoch 2/5\n",
      "\u001b[1m765/765\u001b[0m \u001b[32m━━━━━━━━━━━━━━━━━━━━\u001b[0m\u001b[37m\u001b[0m \u001b[1m11879s\u001b[0m 16s/step - AUC: 0.8336 - binary_accuracy: 0.7679 - loss: 0.4920 - val_AUC: 0.8538 - val_binary_accuracy: 0.7601 - val_loss: 0.4690\n",
      "Epoch 3/5\n",
      "\u001b[1m765/765\u001b[0m \u001b[32m━━━━━━━━━━━━━━━━━━━━\u001b[0m\u001b[37m\u001b[0m \u001b[1m11817s\u001b[0m 15s/step - AUC: 0.8453 - binary_accuracy: 0.7785 - loss: 0.4703 - val_AUC: 0.8547 - val_binary_accuracy: 0.7774 - val_loss: 0.4595\n",
      "Epoch 4/5\n",
      "\u001b[1m765/765\u001b[0m \u001b[32m━━━━━━━━━━━━━━━━━━━━\u001b[0m\u001b[37m\u001b[0m \u001b[1m11933s\u001b[0m 16s/step - AUC: 0.8522 - binary_accuracy: 0.7819 - loss: 0.4564 - val_AUC: 0.8565 - val_binary_accuracy: 0.7777 - val_loss: 0.4565\n",
      "Epoch 5/5\n",
      "\u001b[1m765/765\u001b[0m \u001b[32m━━━━━━━━━━━━━━━━━━━━\u001b[0m\u001b[37m\u001b[0m \u001b[1m11850s\u001b[0m 15s/step - AUC: 0.8473 - binary_accuracy: 0.7769 - loss: 0.4622 - val_AUC: 0.8586 - val_binary_accuracy: 0.7777 - val_loss: 0.4545\n"
     ]
    }
   ],
   "source": [
    "# Обучение\n",
    "history = classifier_model.fit(\n",
    "    {\"input_ids\": train_encodings[\"input_ids\"], \"attention_mask\": train_encodings[\"attention_mask\"]},\n",
    "    y_train,\n",
    "    validation_data=({\"input_ids\": val_encodings[\"input_ids\"], \"attention_mask\": val_encodings[\"attention_mask\"]}, y_val),\n",
    "    epochs=5,\n",
    "    batch_size=32\n",
    ")"
   ]
  },
  {
   "cell_type": "code",
   "execution_count": null,
   "metadata": {},
   "outputs": [
    {
     "data": {
      "image/png": "[encoded data removed]",
      "text/plain": [
       "<Figure size 640x480 with 1 Axes>"
      ]
     },
     "metadata": {},
     "output_type": "display_data"
    }
   ],
   "source": [
    "plt.plot(history.history['loss'], label='Training Loss')\n",
    "plt.plot(history.history['val_loss'], label='Validation Loss')\n",
    "plt.legend()\n",
    "plt.show()\n"
   ]
  },
  {
   "cell_type": "code",
   "execution_count": 14,
   "metadata": {},
   "outputs": [
    {
     "name": "stdout",
     "output_type": "stream",
     "text": [
      "\u001b[1m96/96\u001b[0m \u001b[32m━━━━━━━━━━━━━━━━━━━━\u001b[0m\u001b[37m\u001b[0m \u001b[1m1235s\u001b[0m 13s/step - AUC: 0.8678 - binary_accuracy: 0.7948 - loss: 0.4384\n"
     ]
    }
   ],
   "source": [
    "# Оценка на тестовом наборе\n",
    "test_loss, test_acc, test_auc = classifier_model.evaluate(\n",
    "    {\"input_ids\": test_encodings[\"input_ids\"], \"attention_mask\": test_encodings[\"attention_mask\"]},\n",
    "    y_test\n",
    ")\n"
   ]
  },
  {
   "cell_type": "code",
   "execution_count": null,
   "metadata": {},
   "outputs": [
    {
     "name": "stdout",
     "output_type": "stream",
     "text": [
      "\u001b[1m96/96\u001b[0m \u001b[32m━━━━━━━━━━━━━━━━━━━━\u001b[0m\u001b[37m\u001b[0m \u001b[1m1327s\u001b[0m 14s/step\n",
      "Test Accuracy: 0.7918300628662109\n",
      "Test AUC: 0.870019793510437\n",
      "F1 Score: 0.7121554450971532\n"
     ]
    }
   ],
   "source": [
    "y_pred_probs = classifier_model.predict(\n",
    "    {\"input_ids\": test_encodings[\"input_ids\"], \"attention_mask\": test_encodings[\"attention_mask\"]}\n",
    ")\n",
    "y_pred = (y_pred_probs >= 0.5).astype(int)\n",
    "\n",
    "print(f\"Test Accuracy: {test_acc}\")\n",
    "print(f\"Test AUC: {test_auc}\")\n",
    "print(f\"F1 Score: {f1_score(y_test, y_pred)}\")"
   ]
  }
 ],
 "metadata": {
  "kernelspec": {
   "display_name": "Python 3",
   "language": "python",
   "name": "python3"
  },
  "language_info": {
   "codemirror_mode": {
    "name": "ipython",
    "version": 3
   },
   "file_extension": ".py",
   "mimetype": "text/x-python",
   "name": "python",
   "nbconvert_exporter": "python",
   "pygments_lexer": "ipython3",
   "version": "3.12.0"
  }
 },
 "nbformat": 4,
 "nbformat_minor": 2
}
