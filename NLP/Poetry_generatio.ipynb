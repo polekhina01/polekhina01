{
  "cells": [
    {
      "cell_type": "markdown",
      "metadata": {
        "id": "Zz_DJv25yxSg"
      },
      "source": [
        "### Генерация поэзии с помощью нейронных сетей\n",
        "\n",
        "Основная задача: научиться генерироват стихи с помощью простой рекуррентной нейронной сети."
      ]
    },
    {
      "cell_type": "code",
      "execution_count": null,
      "metadata": {
        "id": "WxpZBzTdyxSi"
      },
      "outputs": [],
      "source": [
        "import string\n",
        "import os\n",
        "from random import sample\n",
        "\n",
        "import numpy as np\n",
        "import torch, torch.nn as nn\n",
        "import torch.nn.functional as F\n",
        "\n",
        "from IPython.display import clear_output\n",
        "\n",
        "import matplotlib.pyplot as plt"
      ]
    },
    {
      "cell_type": "code",
      "execution_count": null,
      "metadata": {
        "colab": {
          "base_uri": "https://localhost:8080/"
        },
        "id": "EGu1Yz4NyxSj",
        "outputId": "0fe3c359-1a42-4d9f-a9ae-fea6d0748ee0"
      },
      "outputs": [
        {
          "name": "stdout",
          "output_type": "stream",
          "text": [
            "cuda device is available\n"
          ]
        }
      ],
      "source": [
        "device = torch.device('cuda') if torch.cuda.is_available() else torch.device('cpu')\n",
        "print('{} device is available'.format(device))"
      ]
    },
    {
      "cell_type": "markdown",
      "metadata": {
        "id": "MPenWOy01Ooa",
        "outputId": "a92e8e33-e009-4bd4-ac12-3b1b5e1cd3f2"
      },
      "source": [
        "#### 1. Загрузка данных."
      ]
    },
    {
      "cell_type": "code",
      "execution_count": null,
      "metadata": {
        "colab": {
          "base_uri": "https://localhost:8080/"
        },
        "id": "637oOqEcyxSj",
        "outputId": "f69ee0a3-157f-4e53-eb4b-f3abb56e41b7"
      },
      "outputs": [
        {
          "name": "stdout",
          "output_type": "stream",
          "text": [
            "--2024-11-02 20:26:16--  https://raw.githubusercontent.com/neychev/small_DL_repo/master/datasets/onegin.txt\n",
            "Resolving raw.githubusercontent.com (raw.githubusercontent.com)... 185.199.109.133, 185.199.108.133, 185.199.111.133, ...\n",
            "Connecting to raw.githubusercontent.com (raw.githubusercontent.com)|185.199.109.133|:443... connected.\n",
            "HTTP request sent, awaiting response... 200 OK\n",
            "Length: 262521 (256K) [text/plain]\n",
            "Saving to: ‘onegin.txt.1’\n",
            "\n",
            "onegin.txt.1        100%[===================>] 256.37K  --.-KB/s    in 0.004s  \n",
            "\n",
            "2024-11-02 20:26:16 (65.1 MB/s) - ‘onegin.txt.1’ saved [262521/262521]\n",
            "\n"
          ]
        }
      ],
      "source": [
        "!wget https://raw.githubusercontent.com/neychev/small_DL_repo/master/datasets/onegin.txt\n",
        "\n",
        "with open('onegin.txt', 'r') as iofile:\n",
        "    text = iofile.readlines()\n",
        "\n",
        "text = \"\".join([x.replace('\\t\\t', '').lower() for x in text])\n"
      ]
    },
    {
      "cell_type": "markdown",
      "metadata": {
        "id": "XQYpmGfR_gJ8"
      },
      "source": [
        "#### 2. Построение словаря и предобработка текста\n",
        "\n",
        "Приведем весь текст к нижнему регистру и построим словарь из всех символов в доступном корпусе текстов. Также добавим токен `<sos>`."
      ]
    },
    {
      "cell_type": "code",
      "execution_count": null,
      "metadata": {
        "colab": {
          "base_uri": "https://localhost:8080/"
        },
        "id": "R64oeCtjyxSk",
        "outputId": "8145f9dd-069e-4a46-9b57-2e3271747880"
      },
      "outputs": [
        {
          "name": "stdout",
          "output_type": "stream",
          "text": [
            "Seems fine!\n"
          ]
        }
      ],
      "source": [
        "tokens = sorted(set(text.lower())) + ['<sos>']\n",
        "num_tokens = len(tokens)\n",
        "\n",
        "assert num_tokens == 84, \"Check the tokenization process\"\n",
        "\n",
        "token_to_idx = {x: idx for idx, x in enumerate(tokens)}\n",
        "idx_to_token = {idx: x for idx, x in enumerate(tokens)}\n",
        "\n",
        "assert len(tokens) == len(token_to_idx), \"Mapping should be unique\"\n",
        "\n",
        "print(\"Seems fine!\")\n",
        "\n",
        "\n",
        "text_encoded = [token_to_idx[x] for x in text]\n"
      ]
    },
    {
      "cell_type": "code",
      "execution_count": null,
      "metadata": {
        "id": "-O4xgtQ8yxSk"
      },
      "outputs": [],
      "source": [
        "batch_size = 256\n",
        "seq_length = 100\n",
        "start_column = np.zeros((batch_size, 1), dtype=int) + token_to_idx['<sos>']\n",
        "\n",
        "def generate_chunk():\n",
        "    global text_encoded, start_column, batch_size, seq_length\n",
        "\n",
        "    start_index = np.random.randint(0, len(text_encoded) - batch_size*seq_length - 1)\n",
        "    data = np.array(text_encoded[start_index:start_index + batch_size*seq_length]).reshape((batch_size, -1))\n",
        "    yield np.hstack((start_column, data))\n"
      ]
    },
    {
      "cell_type": "markdown",
      "metadata": {
        "id": "33JXmQvVyxSl"
      },
      "source": [
        "Пример батча:"
      ]
    },
    {
      "cell_type": "code",
      "execution_count": null,
      "metadata": {
        "colab": {
          "base_uri": "https://localhost:8080/"
        },
        "id": "aGIwCYm_yxSl",
        "outputId": "c0b192ca-06af-4e39-9b7b-b3c55c5cdd18"
      },
      "outputs": [
        {
          "data": {
            "text/plain": [
              "array([[83, 63, 59, ..., 59, 58,  1],\n",
              "       [83, 52, 58, ...,  1, 52, 45],\n",
              "       [83, 47, 63, ..., 59, 47, 73],\n",
              "       ...,\n",
              "       [83, 12,  0, ..., 45,  1, 48],\n",
              "       [83, 61, 64, ...,  1, 51, 53],\n",
              "       [83, 52, 58, ..., 53,  1, 47]])"
            ]
          },
          "execution_count": 21,
          "metadata": {},
          "output_type": "execute_result"
        }
      ],
      "source": [
        "next(generate_chunk())"
      ]
    },
    {
      "cell_type": "markdown",
      "metadata": {
        "id": "mJa3yEDnyxSl"
      },
      "source": [
        "Далее вам предстоит написать код для обучения модели и генерации текста."
      ]
    },
    {
      "cell_type": "code",
      "execution_count": null,
      "metadata": {
        "id": "8P4iE7ZJyxSm"
      },
      "outputs": [],
      "source": [
        "class VanillaRNN(nn.Module):\n",
        "    def __init__(self, vocab_size, embed_size, hidden_size):\n",
        "        super(VanillaRNN, self).__init__()\n",
        "        self.embedding = nn.Embedding(vocab_size, embed_size)\n",
        "        self.rnn = nn.RNN(embed_size, hidden_size, batch_first=True)\n",
        "        self.fc = nn.Linear(hidden_size, vocab_size)\n",
        "\n",
        "    def forward(self, x, hidden):\n",
        "        embed = self.embedding(x)\n",
        "        output, hidden = self.rnn(embed, hidden)\n",
        "        logits = self.fc(output)\n",
        "        return logits, hidden\n",
        "\n",
        "    def init_hidden(self, batch_size):\n",
        "        return torch.zeros(1, batch_size, hidden_size).to(device)\n"
      ]
    },
    {
      "cell_type": "code",
      "execution_count": null,
      "metadata": {
        "colab": {
          "base_uri": "https://localhost:8080/"
        },
        "id": "gFJ-Jxr1gW-_",
        "outputId": "4d90fcfc-59c9-4aa5-b096-3848ca6ceb8e"
      },
      "outputs": [
        {
          "name": "stdout",
          "output_type": "stream",
          "text": [
            "Epoch [10000/10000], Loss: 1.5757\n"
          ]
        }
      ],
      "source": [
        "embed_size = 64\n",
        "hidden_size = 128\n",
        "vocab_size = num_tokens\n",
        "\n",
        "char_rnn = VanillaRNN(vocab_size, embed_size, hidden_size).to(device)\n",
        "optimizer = torch.optim.Adam(char_rnn.parameters(), lr=0.005)\n",
        "criterion = nn.CrossEntropyLoss()\n",
        "\n",
        "num_epochs = 10000\n",
        "loss_history = []\n",
        "for epoch in range(num_epochs):\n",
        "    hidden = char_rnn.init_hidden(batch_size)\n",
        "    epoch_loss = 0.0\n",
        "    num_batches = 0\n",
        "\n",
        "    for chunk in generate_chunk():\n",
        "        inputs = torch.tensor(chunk[:, :-1], dtype=torch.int64).to(device)\n",
        "        targets = torch.tensor(chunk[:, 1:], dtype=torch.int64).to(device)\n",
        "\n",
        "        optimizer.zero_grad()\n",
        "        outputs, hidden = char_rnn(inputs, hidden)\n",
        "        loss = criterion(outputs.view(-1, vocab_size), targets.view(-1))\n",
        "        loss.backward()\n",
        "        optimizer.step()\n",
        "\n",
        "        epoch_loss += loss.item()\n",
        "        num_batches += 1\n",
        "\n",
        "    epoch_loss /= num_batches\n",
        "    loss_history.append(epoch_loss)\n",
        "\n",
        "    clear_output(wait=True)\n",
        "    print(f\"Epoch [{epoch+1}/{num_epochs}], Loss: {epoch_loss:.4f}\")\n"
      ]
    },
    {
      "cell_type": "code",
      "execution_count": null,
      "metadata": {
        "colab": {
          "base_uri": "https://localhost:8080/",
          "height": 487
        },
        "id": "-80T8Q70hR4m",
        "outputId": "5de8dce2-a791-440d-ca65-543adc8b3309"
      },
      "outputs": [
        {
          "data": {
            "image/png": "[encoded data removed]",
            "text/plain": [
              "<Figure size 1000x500 with 1 Axes>"
            ]
          },
          "metadata": {},
          "output_type": "display_data"
        }
      ],
      "source": [
        "plt.figure(figsize=(10, 5))\n",
        "plt.plot(loss_history, label=\"Training Loss\")\n",
        "plt.xlabel(\"Epoch\")\n",
        "plt.ylabel(\"Loss\")\n",
        "plt.title(\"Training Loss Over Time\")\n",
        "plt.legend()\n",
        "plt.show()"
      ]
    },
    {
      "cell_type": "code",
      "execution_count": null,
      "metadata": {
        "id": "xrumbvfcyxSm"
      },
      "outputs": [],
      "source": [
        "def generate_sample(char_rnn, seed_phrase=None, max_length=200, temperature=1.0, device=device):\n",
        "    '''\n",
        "    The function generates text given a phrase of length at least SEQ_LENGTH.\n",
        "    :param seed_phrase: prefix characters. The RNN is asked to continue the phrase\n",
        "    :param max_length: maximum output length, including seed_phrase\n",
        "    :param temperature: coefficient for sampling.  higher temperature produces more chaotic outputs,\n",
        "                        smaller temperature converges to the single most likely output\n",
        "    '''\n",
        "\n",
        "    if seed_phrase is not None:\n",
        "        x_sequence = [token_to_idx['<sos>']] + [token_to_idx[token] for token in seed_phrase]\n",
        "    else:\n",
        "        x_sequence = [token_to_idx['<sos>']]\n",
        "\n",
        "    x_sequence = torch.tensor([x_sequence], dtype=torch.int64).to(device)\n",
        "    hidden = char_rnn.init_hidden(1)\n",
        "    \n",
        "    generated_text = seed_phrase if seed_phrase else \"\"\n",
        "    char_rnn.eval()\n",
        "\n",
        "    with torch.no_grad():\n",
        "        for _ in range(max_length - len(generated_text)):\n",
        "            logits, hidden = char_rnn(x_sequence, hidden)\n",
        "            logits = logits[:, -1, :] / temperature\n",
        "            probs = F.softmax(logits, dim=-1).squeeze()\n",
        "            next_char_idx = torch.multinomial(probs, 1).item()\n",
        "            next_char = idx_to_token[next_char_idx]\n",
        "\n",
        "            generated_text += next_char\n",
        "            x_sequence = torch.cat([x_sequence, torch.tensor([[next_char_idx]], dtype=torch.int64).to(device)], dim=1)\n",
        "            if next_char == '<sos>':\n",
        "                break\n",
        "\n",
        "    return ''.join([tokens[ix] for ix in x_sequence.cpu().data.numpy()[0]])"
      ]
    },
    {
      "cell_type": "code",
      "execution_count": null,
      "metadata": {
        "colab": {
          "base_uri": "https://localhost:8080/"
        },
        "id": "X5rsY0zDibOo",
        "outputId": "b25cadaa-4f65-4336-bf3b-5d5fd4e80b35"
      },
      "outputs": [
        {
          "name": "stdout",
          "output_type": "stream",
          "text": [
            "<sos> мой дядя самых честных правилее друг обратя,\n",
            "в браны,\n",
            "чья,\n",
            "княю; в тог давно ножке из после детяк изменичас оды домины,\n",
            "в ростом просужая,\n",
            "затесе стали с полувно по возший голову\n",
            "заставить, когу.\n",
            "убы должен быть, поэта должен лень\n",
            "на видом, и стрельный,\n",
            "бледней\n",
            "тепишно увижай,\n",
            "всё то же видит, приду…\n",
            "медремь,\n",
            "и дамени, и седь нашо души! любил.\n",
            "\n",
            "\n",
            "\n",
            "xliv\n",
            "\n",
            "приказал уж и тей вновь\n",
            "приятно доже черонечно так альбен страшном ольгою крусной как наслева\n",
            "изот же мне весночие туснигах, быть жар упростит;\n",
            "\n"
          ]
        }
      ],
      "source": [
        "print(generate_sample(char_rnn, ' мой дядя самых честных правил', max_length=500, temperature=0.8))"
      ]
    },
    {
      "cell_type": "code",
      "execution_count": null,
      "metadata": {
        "id": "mJsMR4qPyxSn",
        "outputId": "c0d67f4f-c18c-4d9e-e2f7-cb5d28cda4fb"
      },
      "outputs": [
        {
          "name": "stdout",
          "output_type": "stream",
          "text": [
            "<sos> мой дядя самых честных правилас;\n",
            "\n",
            "\n",
            "\n",
            "xiv\n",
            "\n",
            "но как потокой.\n",
            "\n",
            "\n",
            "\n",
            "xii\n",
            "\n",
            "«я свобред не словавран в скорей,\n",
            "для с посвялесь мне моловой,\n",
            "те ты,\n",
            "перегиной в тям праздной\n",
            "и привезут перваю вся вновся сквозь ти стала сблился,\n",
            "и старый свимарной таня обратель любова не когда и нет волностье нежной\n",
            "тишен,\n",
            "перестоком.\n",
            "«поже постаничив очествы\n",
            "в и старько забаньем и заковенью,\n",
            "ее своя моднать наводушта;\n",
            "какой нет поли своем горозный и быле и, законно он ходушних недважный плая\n",
            "с за стра.\n",
            "\n",
            "\n",
            "\n",
            "xvii\n",
            "\n",
            "\n",
            "\n",
            "\n",
            "xxvi\n",
            "\n",
            "все \n"
          ]
        }
      ],
      "source": [
        "print(generate_sample(model, ' мой дядя самых честных правил', max_length=500, temperature=0.8))"
      ]
    },
    {
      "cell_type": "code",
      "execution_count": null,
      "metadata": {
        "colab": {
          "base_uri": "https://localhost:8080/"
        },
        "id": "D1vpM36NnSy0",
        "outputId": "63042feb-1324-4d16-c762-cf2c44cda0cc"
      },
      "outputs": [
        {
          "name": "stdout",
          "output_type": "stream",
          "text": [
            "0.3\n",
            "<sos> мой дядя самых честных правила богом дней замолит – душою\n",
            "они в послегом еж был нас;\n",
            "умылкой,\n",
            "чтоб труды,\n",
            "безыми грозный,\n",
            "и сам онегин даже в это полей бутим ровницый девой одежде ж том и почти прель приходь, модный\n",
            "в коль, мерейценье\n",
            "летаться не услуга блествате вы, и петурной верно зимашня нежной встренив,\n",
            "что находит умы,\n",
            "дву фоными чаще пысковлив понукомый говорил с песнят? к евгением еще в послуй его душа две моды\n",
            "себя то на бесно и руку\n",
            "мелькают прошела пораженья,\n",
            "с пороги приятник лежит \n",
            "0.4\n",
            "<sos> мой дядя самых честных правили томимно, о пладаясь,\n",
            "перовнопляясь ей.\n",
            "оголь.\n",
            "созранком меня бедно другом мужу в постели лишидвен и тетвежным унынные легче ней ленский их дерегом умотил я разлива;\n",
            "но струйко стали долго слошет,\n",
            "и стали долгом,\n",
            "по взор собень как шалодой\n",
            "и поток, за тотча бедает\n",
            "и ночко ироже,\n",
            "кони обедо.\n",
            "\n",
            "\n",
            "\n",
            "xxiii\n",
            "\n",
            "что татьяна, владела настило мой кона…\n",
            "меньших москлы,\n",
            "я финово,\n",
            "что долго зимой заботый страшный позражах,\n",
            "и деревно и родной\n",
            "в таковенно же жнит молодой,\n",
            "ты наслоты \n",
            "0.5\n",
            "<sos> мой дядя самых честных правила б тени,\n",
            "давно, младу ждал; казнью огнам мы прилежня, татьяна.\n",
            "\n",
            "\n",
            "\n",
            "xxiv\n",
            "\n",
            "он сердца в первозанился по неокрыла своеги,\n",
            "обрат;\n",
            "под вызра благовор,\n",
            "алина покажны зновог тебе, гдепыи\n",
            "и он силого с нею старинных верно так убушко в самостьяя утрости страх,\n",
            "я на горем, на жертяже,\n",
            "так унен, перен, как деловистия привелит он нет буяный причева,\n",
            "вот, он моей.\n",
            "\n",
            "\n",
            "\n",
            "xliv\n",
            "\n",
            "и времений хозяйно сквозь сердечно в аплески, скоро, льав,\n",
            "воспевеся, двором,\n",
            "и должны в – тайных она мяжет \n",
            "0.6000000000000001\n",
            "<sos> мой дядя самых честных правила мы парик,\n",
            "посвятьство без богатсонь ее в иного-пих впидов и дома с грустную заменит, их себя плековые\n",
            "еще послушал\n",
            "и старылся верное городный,\n",
            "сон красноу сен возрельное любовь отомников природом,\n",
            "без франенье\n",
            "на мой отпрално короче она двуе только мне взорой\n",
            "так тем принежная мне нудичает скорей, к ним пенилазать\n",
            "уж не вар и это поэток – со тревый прелесил – тот дома описких очень частьянаритьле молчанье рустая ли,\n",
            "природ,\n",
            "кладнеем прощайся, моей\n",
            "татьяна тайный с\n",
            "0.7000000000000002\n",
            "<sos> мой дядя самых честных правиля пороветь, хохотные местах\n",
            "стравана,\n",
            "тал предскама\n",
            "мне домонижине;\n",
            "вы, крубленной,\n",
            "порок ромов весное властвой под ужел в дверной луно…\n",
            "его заметит и брельныло вниместь он молодой,\n",
            "приниковой в занесен в залета.\n",
            "для нагловой.\n",
            "\n",
            "\n",
            "\n",
            "xlv\n",
            "\n",
            "но ждет,\n",
            "и слушала мол\n",
            "голова нашемно, речь; как мы сехда.\n",
            "\n",
            "\n",
            "\n",
            "xxi\n",
            "\n",
            "в тались. в этомом – живет,\n",
            "и моей одна татьяна подобно,\n",
            "и разговор лицом, пора милов,\n",
            "ей тебе,\n",
            "приледи\n",
            "сидя\n",
            "охот…\n",
            "в нем деревенной\n",
            "непомнялась на душло мне чудави обег\n",
            "0.8000000000000003\n",
            "<sos> мой дядя самых честных правили был призва же своблит,\n",
            "и лапкак;\n",
            "и в редкой напирной\n",
            "рукою калит онегин belle tange!»ё-нилуб, как брать каждать межде отдаленный глу темной кучи прилель на него ее мне лети головны мне приют между после занят;\n",
            "но всё перезнесь от мы язытей по лунных,\n",
            "нашедит мечтаней\n",
            "мне самой сумсены, в свою\n",
            "не порты молодом.\n",
            "природою что глашени\n",
            "мой впервых с отрада призва свадной ленский друзья,\n",
            "булись,\n",
            "в извую тебет брегами не знаели дрожду, рождую повечал!\n",
            "\n",
            "\n",
            "\n",
            "xxxviii\n",
            "\n",
            "и стого\n",
            "0.9000000000000001\n",
            "<sos> мой дядя самых честных правила с нею уныму часто луг;\n",
            "даварье\n",
            "сидять метлесен умил\n",
            "и дамена,\n",
            "уж капленом\n",
            "сей кручинные тень трике. так, неборой страданью прижикало, да веселах\n",
            "не геловы, услужьство; вот нежди смертшей мечты, как вольной рощимало слажае деревенной\n",
            "и моей.\n",
            "миной,\n",
            "развата…\n",
            "\n",
            "\n",
            "\n",
            "xlviiii\n",
            "\n",
            "конечно, сладуться в москва в поведеньем\n",
            "сехль мы лирой сенько проды, потон картик,\n",
            "душих,\n",
            "он по-русски, блестакий!\n",
            "\n",
            "\n",
            "\n",
            "xi\n",
            "\n",
            "татьяна блещутся в горей теперь забенык с ним понять, моской зайкой;\n",
            "а волна\n",
            "1.0000000000000002\n",
            "<sos> мой дядя самых честных правила доминной делиской друг моспоть на столо,\n",
            "как чужденной черя ты, кричка хордется томный музамая,\n",
            "но здесь в семью луном ланут сограненый\n",
            "и слышишь? чисты не бледных и моды,\n",
            "достой\n",
            "нероган\n",
            "на стакон обору тету, что народной встал другом?\n",
            "\n",
            "\n",
            "\n",
            "xlv\n",
            "\n",
            "ни томим лет\n",
            "увершины,\n",
            "всё на милой спит;\n",
            "громки мальчик в об ней, быть изстерь отысал, странной\n",
            "судью сидится соседа;\n",
            "глуход, он первым своих тай пустыной,\n",
            "татьяна был и годатель,\n",
            "веселый умы!\n",
            "спящий гостит, и сторон высед \n",
            "1.1000000000000003\n",
            "<sos> мой дядя самых честных правиле о к жен и друг с печальной бурных, татьяна хрусной:\n",
            "вспыхнуть, устады именил.\n",
            "\n",
            "\n",
            "\n",
            "xii\n",
            "\n",
            "в бай лек,\n",
            "тогом\n",
            "и подоля питает нет, лучкем\n",
            "не пирок\n",
            "кружой\n",
            "и в будился говелина».\n",
            "\n",
            "\n",
            "\n",
            "viii\n",
            "\n",
            "улона, возвенной?\n",
            "\n",
            "\n",
            "\n",
            "xxiv\n",
            "\n",
            "\n",
            "\n",
            "iv\n",
            "\n",
            "татьяна выпотные под глух ждет в долгий крайки, с таним девавший,\n",
            "и дам разлуждый на вечер видит, тало нашел мы волный и стекля, одналася, может меня тут балу седьмо\n",
            "как назнав, поверив обогда покой свету не виждом\n",
            "с мне детская ваше в сеня».\n",
            "\n",
            "\n",
            "\n",
            "xxii\n",
            "\n",
            "ней \n",
            "1.2000000000000004\n",
            "<sos> мой дядя самых честных правила шагов верно,\n",
            "врагость, и деревно\n",
            "(что за долго привы те петал, не вом поутру и скону, верно в это солчукнут.\n",
            "«богда о странных гоним леняла томный,\n",
            "раз его узытикрада в гладил мольдлу колеть мечтанья\n",
            "не самень его\n",
            "в готова,\n",
            "над слуха,\n",
            "владимать молода в печаль,\n",
            "наритель оздружен помеют мы судьбою горего снови;\n",
            "зарецкий буян ольги клот явить мосте, много друг давно все довольный и природный,\n",
            "разнок грустный потих день отрядле\n",
            "и крик, на взялись евгеньяю,\n",
            "в из по-ру\n",
            "1.3000000000000005\n",
            "<sos> мой дядя самых честных правила был прадостной толконский тейно с ней столоться в праздник.\n",
            "татьяна в семьк-etereteara?..\n",
            "увидеты когда ль в берган,\n",
            "так примя на станом сыни месклюце он на страданий,\n",
            "не не друг достей\n",
            "рассогда на строгой ах,\n",
            "с улыбкой,\n",
            "и говорил.\n",
            "первой\n",
            "с верно света;\n",
            "недевал.\n",
            "тут жмет сердца с грязой давно, небою,\n",
            "передоньем\n",
            "надель и мы снег соямный глым лет,\n",
            "по лесок она воле\n",
            "и грустете льном,\n",
            "приятник мой представил! мой, с ком\n",
            "так унылый молча он уных деревно;\n",
            "поминный;\n",
            "там \n",
            "1.4000000000000004\n",
            "<sos> мой дядя самых честных правили взглянул с неонарься бы трудных.\n",
            "«поди боды краской его соседом,\n",
            "и far. флей,\n",
            "полны, – и рожден, как меня поседа:\n",
            "с конечно, случат,\n",
            "взгом, что лет.\n",
            "\n",
            "\n",
            "\n",
            "xlii\n",
            "\n",
            "он разцейник меня живой стали, пересталась,\n",
            "и молчалите\n",
            "и, что славы\n",
            "и долго проходит не вздорочен,\n",
            "предан, на фря,\n",
            "ужизумим,\n",
            "воздалать а мило?\n",
            "к раменные не без чисты билелена, всё не мог,\n",
            "\n",
            "\n",
            "\n",
            "xlii\n",
            "\n",
            "мы моедие подала,\n",
            "не его под нимых просласнал.\n",
            "\n",
            "\n",
            "\n",
            "vii\n",
            "\n",
            "не поразах, весь и,\n",
            "груститы из утом придал уже свете\n",
            "я \n",
            "1.5000000000000004\n",
            "<sos> мой дядя самых честных правила,\n",
            "как его откожая писал:\n",
            "влошей про глабые портвый за строгое дворо отдохномки приведин\n",
            "дрим со сне,\n",
            "другу,\n",
            "лесный возволом,\n",
            "она может вам негоднете е скольа, отран верила под морозно на шитетилась,\n",
            "и стали был за милой.\n",
            "кто моей,\n",
            "под няний одно,\n",
            "и в ней\n",
            "блесчуть в хотом;\n",
            "про вечерпив нарыет, в стресть;\n",
            "кого слова лугала требою,\n",
            "полный лет,\n",
            "и смуще старано.\n",
            "между тревожитель:\n",
            "он занесен блесце не татьяна только в женщит, красной.\n",
            "с коротке летят накресестью – нодов\n",
            "1.6000000000000005\n",
            "<sos> мой дядя самых честных правила не гранит;\n",
            "и скучена\n",
            "сбор,\n",
            "и позванной татьяны прикоды!\n",
            "я варок\n",
            "утречают деревней про всё разаетай;\n",
            "за страннет изнак.\n",
            "\n",
            "\n",
            "\n",
            "xlii\n",
            "\n",
            "увы уславнянный полубокначегим по ез-ее летот\n",
            "и другой ратлей все душо внука.\n",
            "тепучные метилеливый коры,\n",
            "и вам шалом поздно у нею готовился,\n",
            "в весьцый вспел то вылегин груда,\n",
            "скользим в горовь мересть.\n",
            "в сей жента оспел.\n",
            "\n",
            "\n",
            "\n",
            "xxxvii\n",
            "\n",
            "немут,\n",
            "как водит не уверенной;\n",
            "тому о тоске, таниж фля в ней фефвы, света;\n",
            "блестерпекр!. ленского на крайках\n",
            "1.7000000000000004\n",
            "<sos> мой дядя самых честных правила еще видет\n",
            "и думалась,\n",
            "я был другой может, от пьяновный, тревожал: блесненьи сомненых невольноте не садов. межты ней миром намейся тем видя первит обежно эпигахо; в песне верно чравках, потомой\n",
            "неворят и друг, поклоненье,\n",
            "сель.\n",
            "\n",
            "\n",
            "\n",
            "xlii\n",
            "\n",
            "покойной\n",
            "мне постеле\n",
            "на настра подол слушала всё порой;\n",
            "другой предявно: закрелиной до ревнивый чьюдей!\n",
            "\n",
            "\n",
            "\n",
            "\n",
            "xvii\n",
            "\n",
            "«но наши внимало, все долги поквось любезкам\n",
            "ужишипьений,\n",
            "а я утоле,\n",
            "и скользокет\n",
            "и никогда как этой несета\n",
            "и первый у\n",
            "1.8000000000000005\n",
            "<sos> мой дядя самых честных правили отдайте по не двера.\n",
            "раздный цвет она у из любовь,\n",
            "разотный\n",
            "хоть мое!\n",
            "тестражда,\n",
            "на нею;\n",
            "хоту своей селький соседей\n",
            "что жизни был правдной дво тимейки жироли, ясно,\n",
            "и нежней! приил с прядесты!\n",
            "ее другауть его ольги мужем сограна\n",
            "лаковейшие)\n",
            "хочет бреданья; как успоте стут и молодный заниместв в деременной ж на долго сельтый тяжелый шум;\n",
            "и впряд соять много; из милой уголо,\n",
            "и чай,\n",
            "перавочи слова,\n",
            "привайсе любовник детей.\n",
            "давно был общих велит пета пона,\n",
            "чтобы поэт.\n",
            "1.9000000000000006\n",
            "<sos> мой дядя самых честных правила с ним одна,\n",
            "покоры\n",
            "простительно душнымы встречательный дева: красывшин сердца приильной угажи\n",
            "служдынный без глядит,\n",
            "где в могочей;\n",
            "на можит молодой\n",
            "отец, там на взоры,\n",
            "гремность легкают простодушно гладу вооблисто на леспялся в мечтаньях лет;\n",
            "любит ни глубоко,\n",
            "который сидит\n",
            "невород,\n",
            "он потредцать могла, жизни молодой само моей родном одеть.\n",
            "\n",
            "\n",
            "\n",
            "xxx\n",
            "\n",
            "сей и в семер;\n",
            "простите полистой\n",
            "всё по старин,\n",
            "и обрадой\n",
            "как я!\n",
            "\n",
            "\n",
            "\n",
            "xxix\n",
            "\n",
            "вот долго мнянной таня развоеление город о\n",
            "2.0000000000000004\n",
            "<sos> мой дядя самых честных правила паскол – что никак к ней?\n",
            "и добром мне переты ждала – бедая\n",
            "скользя,\n",
            "и взор на байком\n",
            "душа молодом,\n",
            "как лед годесь,\n",
            "пьяды!..\n",
            "\n",
            "\n",
            "\n",
            "xxix\n",
            "\n",
            "уноски,\n",
            "блещит позненный граммать,\n",
            "в ней балы приленной порой призварной\n",
            "читал в дело зегов какая, – не знак, подолся любовник моей нет;\n",
            "до нечайко в том не занят, однется в струга\n",
            "с готрик,\n",
            "его онегин быль ядской\n",
            "он меня в мне чупо ню состок искучает, блаженственной не чута\n",
            "хоть не теперь гора,\n",
            "всё божет вот часта мно леж.\n",
            "она она,\n"
          ]
        }
      ],
      "source": [
        "for temp in np.arange(0.3, 2.1, 0.1):\n",
        "  print(temp)\n",
        "  print(generate_sample(char_rnn, ' мой дядя самых честных правил', max_length=500, temperature=0.8))"
      ]
    },
    {
      "cell_type": "code",
      "execution_count": null,
      "metadata": {
        "id": "idS7oPVWyxSn"
      },
      "outputs": [],
      "source": [
        "seed_phrase = ' мой дядя самых честных правил'"
      ]
    },
    {
      "cell_type": "code",
      "execution_count": null,
      "metadata": {
        "colab": {
          "base_uri": "https://localhost:8080/"
        },
        "id": "aB9ebKXtg5Kl",
        "outputId": "37930b5e-8c4e-4563-9caa-c83f1ee2d5cf"
      },
      "outputs": [
        {
          "name": "stdout",
          "output_type": "stream",
          "text": [
            "мой дядя самых честных правила с ним он не долго слушает не сосед\n",
            "и слезы не должен, давно с негой станит покоротной\n",
            "в таня домой странной стол моей привелив,\n",
            "покором с ней ленский молодой,\n",
            "в тетной сердца моего с ней лишь без семья\n",
            "в такого друг, полей\n",
            "как поверные страстный друг себя в семья\n",
            "в ней старика страстей сенили в соседом,\n",
            "подобно и с об жениваньем\n",
            "на старинных долго привычный другой молодой,\n",
            "под сень\n",
            "простосный моей приветляет в семьем старинные в семья,\n",
            "под ней старинных дома татьян\n",
            "мой дядя самых честных правила страшно она мог благородной\n",
            "в темной под сень.\n",
            "\n",
            "\n",
            "\n",
            "xxxii\n",
            "\n",
            "вот небраженье,\n",
            "привычки гремал он отрада домиренный в семья,\n",
            "под ней старинных долго родной\n",
            "в темной стал по что ж обор,\n",
            "и в сеня дома старинных деревено\n",
            "в семень едет не долго слушает не долго сердце жизнь верно в семья,\n",
            "под ней старинный франте моей сердечной старины\n",
            "(на будной\n",
            "домой сель он в семья,\n",
            "под мир и мой дверь он верно с ней ленский;\n",
            "давно с крайки пред ним осталась на собой\n",
            "в том не модной ветре\n",
            "мой дядя самых честных правила с ней лишь без привется старой не может быть на струй,\n",
            "в тетной старинные верно сельтый старины\n",
            "(что в деревнях перед нею поверной приветствую пред ним одна соседи моей сердечной как на могом в сельскогда благострадь она в семья\n",
            "в гостейки пред ним остала,\n",
            "в темной полной деревнях перед умер,\n",
            "и в сеня должны в под ней старинный простоды,\n",
            "и верно на своей судьбу своей привется нашем волный моей сердечной старины,\n",
            "и в садали всё полный нас первый светил сердце не скр\n",
            "мой дядя самых честных правила старинный франте моей стариках ленский все долго слушает не долго слушах он видеть может, соседь подол,\n",
            "который старинным сердце не старика с пестрик,\n",
            "и в семья,\n",
            "и в сеня должен, и грудось в сеня».\n",
            "\n",
            "\n",
            "\n",
            "xxiii\n",
            "\n",
            "в темной ветренный души модный друг мой под сень\n",
            "простости на свете переный был простоты сон подоле\n",
            "в гостиной полны и сладкой как-нибудь,\n",
            "и в сеня». – «но в сулит не сон деревно и с нею привется старинный мой долго строфминуты сон полей и делах,\n",
            "в беденский ра\n",
            "мой дядя самых честных правила с ней ленский! —\n",
            "«к auromme – «pachette! будут онегин был полей\n",
            "не проковыхнет, как и полей привется дома на собой\n",
            "и в сеня». —\n",
            "«ах, где в дернут онегин с отрада как мог мне долги моей сердечный верно в семья\n",
            "в семья соседи, не раз могом вот нет холодной приятно одна,\n",
            "порой верно в делой последно она мог благородной\n",
            "в одная сердечно друг дверь, что ж быть может, семьян\n",
            "и на света с ней ленский молодых,\n",
            "в безмолвно на светил с не должны приветствицая молча – верной \n",
            "мой дядя самых честных правила с ней ленский молодой,\n",
            "в гости ей в сей грудь,\n",
            "и в самом судьбу соседи, как между татьяны в сеня домашний души,\n",
            "и долго слушает не дома с ней ленский, как в полной молодой,\n",
            "в глуши сельты модной стали на стано бедный ленский встречает,\n",
            "и верно пора, всё полны,\n",
            "и странной станики дам приехал бы не правда ль в бесно, он отраданный гробкой старинный странной сердечно пред него отдалась может быть, с него отдала одной\n",
            "в темной стал на без приветствана с ней ленский мож\n",
            "мой дядя самых честных правила стол постели страстный простой;\n",
            "давно она в семья\n",
            "в гостей,\n",
            "и верно с после задумает был страном своей одна старинных доброданный ленский молчаливо под ней старины,\n",
            "и старика с нею сердечной стал в семья соседи, нет небранчал он мой друг себя в семья,\n",
            "когда б возволода\n",
            "и дома не мог благоротеть моей сердварит,\n",
            "и в сададшем всё привется в семья\n",
            "с ней ленский может быть, света столова с ней ленский может быть, потом привется в пестро в семья сосед,\n",
            "и странной станень\n",
            "мой дядя самых честных правила стол мой другой молодой,\n",
            "в нем не сон деревно и порой,\n",
            "и сердце встречитвое волнуть она в беспал, бедный друг сердца себя тревожит полны и слова одна,\n",
            "в гостинованье страненный друг, себя подался полна,\n",
            "в глуши волненье, сладкого последников обрата\n",
            "в одном одна за столь и все другом, молчалите на своей сердца моего с негой станит под ней старине\n",
            "(сморованный грудь, она за нею старине,\n",
            "в темно скучный дружен видит на дверь от долго слушах своей сердца моей сердвство\n",
            "мой дядя самых честных правила с ней ленский мой старины\n",
            "(средьма с ней ленский может, соседей\n",
            "не проходит был сердечно полной страном соседкой страном,\n",
            "покором\n",
            "на становился в мог без и слушала моей сердечной одна с ней ленский мечтанья привется по волненье\n",
            "в то ни головей,\n",
            "в гости в день ее подала без это сердце страстный друг сердца в семья\n",
            "с ней ленский может быть, с печальный сердца моей стариках,\n",
            "в самом деревнях перед нею поверной полконе своей привется нашер полей полного пора была девич\n",
            "мой дядя самых честных правила с ней ленский молодой,\n",
            "в гости своей сельский простодный скажен дома страшно он бы славы домашни молодой,\n",
            "в гостейки пред нею не модной станит невой\n",
            "в соседи, небесной оделась и всё поэта душный ленский под сень\n",
            "в гостейки не подруг друг сердце в крятив,\n",
            "и в сеня деревне в задевен,\n",
            "и в сенил на должен полный стол в садит\n",
            "и в сеня».\n",
            "\n",
            "\n",
            "\n",
            "xxiv\n",
            "\n",
            "но так и девицы с ней ленский молодых,\n",
            "в темной дворой верно сердце же страшно одна, полно с пень по скала мне слушайно подруж\n"
          ]
        }
      ],
      "source": [
        "temperature = 0.2\n",
        "generated_phrases = []\n",
        "\n",
        "for _ in range(10):\n",
        "    generated_text = generate_sample(char_rnn, seed_phrase=seed_phrase, max_length=501, temperature=temperature).replace('<sos> ', '')\n",
        "    generated_phrases.append(generated_text)\n",
        "    print(generated_text)"
      ]
    },
    {
      "cell_type": "code",
      "execution_count": null,
      "metadata": {
        "colab": {
          "base_uri": "https://localhost:8080/"
        },
        "id": "NeyYpY7wr4wk",
        "outputId": "849c5bc5-62ed-4f13-b31a-63571621008a"
      },
      "outputs": [
        {
          "name": "stdout",
          "output_type": "stream",
          "text": [
            "500\n",
            "500\n",
            "500\n",
            "500\n",
            "500\n",
            "500\n",
            "500\n",
            "500\n",
            "500\n",
            "500\n"
          ]
        }
      ],
      "source": [
        "for phrase in generated_phrases:\n",
        "  print(len(phrase))"
      ]
    },
    {
      "cell_type": "code",
      "execution_count": null,
      "metadata": {
        "id": "IOaGyXUOyxSn"
      },
      "outputs": [],
      "source": [
        "#generated_phrases = # your code here\n",
        "\n",
        "# For example:\n",
        "\n",
        "# generated_phrases = [\n",
        "#     generate_sample(\n",
        "#         model,\n",
        "#         ' мой дядя самых честных правил',\n",
        "#         max_length=500,\n",
        "#         temperature=1.\n",
        "#     ).replace('<sos>', '')\n",
        "#     for _ in range(10)\n",
        "# ]"
      ]
    }
  ],
  "metadata": {
    "accelerator": "GPU",
    "anaconda-cloud": {},
    "colab": {
      "provenance": []
    },
    "kernelspec": {
      "display_name": "Py3 Research",
      "language": "python",
      "name": "py3_research"
    },
    "language_info": {
      "codemirror_mode": {
        "name": "ipython",
        "version": 3
      },
      "file_extension": ".py",
      "mimetype": "text/x-python",
      "name": "python",
      "nbconvert_exporter": "python",
      "pygments_lexer": "ipython3",
      "version": "3.7.10"
    }
  },
  "nbformat": 4,
  "nbformat_minor": 0
}
